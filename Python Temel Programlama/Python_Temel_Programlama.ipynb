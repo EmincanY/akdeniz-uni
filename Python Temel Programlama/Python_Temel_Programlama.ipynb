{
  "nbformat": 4,
  "nbformat_minor": 0,
  "metadata": {
    "colab": {
      "provenance": [],
      "collapsed_sections": [
        "nhr-EELoYuiw"
      ]
    },
    "kernelspec": {
      "name": "python3",
      "display_name": "Python 3"
    },
    "language_info": {
      "name": "python"
    }
  },
  "cells": [
    {
      "cell_type": "markdown",
      "source": [
        "# **Python Temel Programlama**"
      ],
      "metadata": {
        "id": "mBA5QPYIUTo9"
      }
    },
    {
      "cell_type": "markdown",
      "source": [
        "## **1. Temel Söz Dizimi**"
      ],
      "metadata": {
        "id": "UdusiL-6hkyq"
      }
    },
    {
      "cell_type": "markdown",
      "source": [
        "### **İlk Program**"
      ],
      "metadata": {
        "id": "YnewL7ZQUdFE"
      }
    },
    {
      "cell_type": "code",
      "source": [
        "print(\"Merhaba Dünya!\")"
      ],
      "metadata": {
        "id": "Rse-op6aMUTv",
        "colab": {
          "base_uri": "https://localhost:8080/"
        },
        "outputId": "6e6c9bec-2792-4420-c5d2-85e3acb022ba"
      },
      "execution_count": null,
      "outputs": [
        {
          "output_type": "stream",
          "name": "stdout",
          "text": [
            "Merhaba Dünya!\n"
          ]
        }
      ]
    },
    {
      "cell_type": "markdown",
      "source": [
        "### **Değişkenler**"
      ],
      "metadata": {
        "id": "wjt2kSgUUlxB"
      }
    },
    {
      "cell_type": "markdown",
      "source": [
        "Python, çalışma zamanında değişkenlerin veri tiplerini belirleyen dinamik bir tür sistemine sahiptir. Bu özellik, değişkenlerin atanacak değerlerin türlerinin önceden belirtilmesine ihtiyaç duymadan, farklı türlerdeki değerleri aynı değişkene atamanıza olanak tanır. Bu esneklik, kod yazma sürecini hızlandırır ve karmaşık veri tiplerini belirlemek zorunda kalmadan kod geliştirmeyi sağlar."
      ],
      "metadata": {
        "id": "3mHmkhZMtRXN"
      }
    },
    {
      "cell_type": "code",
      "source": [
        "var = 5"
      ],
      "metadata": {
        "id": "n5S2Bkv_vtpg"
      },
      "execution_count": null,
      "outputs": []
    },
    {
      "cell_type": "code",
      "source": [
        "print(var)\n",
        "var = \"Merhaba\""
      ],
      "metadata": {
        "colab": {
          "base_uri": "https://localhost:8080/"
        },
        "id": "1n4kzDarv2PL",
        "outputId": "246ce78a-0b13-4bce-cd35-9a26c2e9ccaf"
      },
      "execution_count": null,
      "outputs": [
        {
          "output_type": "stream",
          "name": "stdout",
          "text": [
            "5\n"
          ]
        }
      ]
    },
    {
      "cell_type": "code",
      "source": [
        "print(var)\n",
        "var = 3.14"
      ],
      "metadata": {
        "colab": {
          "base_uri": "https://localhost:8080/"
        },
        "id": "E3xFwXyyv3oT",
        "outputId": "1693d652-870a-4fe6-c4f0-c11dd0762312"
      },
      "execution_count": null,
      "outputs": [
        {
          "output_type": "stream",
          "name": "stdout",
          "text": [
            "Merhaba\n"
          ]
        }
      ]
    },
    {
      "cell_type": "code",
      "source": [
        "print(var)"
      ],
      "metadata": {
        "colab": {
          "base_uri": "https://localhost:8080/"
        },
        "id": "ccehK3KPwY3N",
        "outputId": "d93c6e6c-a815-4088-cf97-4a9e2eabcc7d"
      },
      "execution_count": null,
      "outputs": [
        {
          "output_type": "stream",
          "name": "stdout",
          "text": [
            "3.14\n"
          ]
        }
      ]
    },
    {
      "cell_type": "markdown",
      "source": [
        "#### **Değişken İsimlendirme**\n",
        "Python değişkeni adlandırılırken dikkat edilmesi gereken bazı kurallar bulunmaktadır:\n",
        "\n",
        "* Bir değişken adı harfle veya alt çizgi karakteriyle başlamalıdır.\n",
        "  * **Geçerli:** `age`, `_name`, `total_score`\n",
        "  * **Geçersiz:** `1st_place` (sayı ile başlar)\n",
        "* Bir değişken adı sayı veya `$`, `(`, `*`, `%` gibi özel karakterlerle başlayamaz.\n",
        "  * **Geçerli:** `number_of_cats`, `total_earnings`\n",
        "  * **Geçersiz:** `$price`, `(value)` (özel karakterlerle başlar)\n",
        "* Bir değişken adı sadece alfasayısal karakterler ve alt çizgiler içerebilir\n",
        "  * **Geçerli:** `speed_limit_5`, `total2`\n",
        "  * **Geçersiz:** `user@123`, `score!`\n",
        "* Python değişken adları büyük-küçük harfe duyarlıdır.\n",
        "  * `name` ve `Name` farklı değişken isimleridir.\n",
        "* Python'un rezerve ettiği anahtar kelimeler değişken adı olarak kullanılamaz.\n",
        "  * `str`, `int`, `float` vb.\n",
        "\n",
        "Değişken adı birden fazla kelimeden oluşuyorsa, aşağıdaki isimlendirme kalıplarını kullanmalıyız:\n",
        "\n",
        "* **Camel case:** İlk harfi küçük harfle başlar, ancak sonraki her kelimenin ilk harfi büyük harfle başlar.\n",
        "  * `kmPerHour`, `pricePerLitre`\n",
        "* **Pascal case:** Her kelimenin ilk harfi büyük harfle başlar.\n",
        "  * `KmPerHour`, `PricePerLitre`\n",
        "* **Snake case:** Kelimeleri ayırmak için tek alt çizgi(_) karakteri kullanılır.\n",
        "  * `km_per_hour`, `price_per_litre`"
      ],
      "metadata": {
        "id": "WAakhMsU7dCy"
      }
    },
    {
      "cell_type": "code",
      "source": [
        "km_per_hour = 50"
      ],
      "metadata": {
        "id": "hBKcwzlwBcdq"
      },
      "execution_count": null,
      "outputs": []
    },
    {
      "cell_type": "code",
      "source": [
        "user@123 = \"Merhaba\""
      ],
      "metadata": {
        "colab": {
          "base_uri": "https://localhost:8080/",
          "height": 140
        },
        "id": "Fx4IxT6tBgWy",
        "outputId": "b1cd803e-9ca1-4c9c-be31-2e55dfdf306d"
      },
      "execution_count": null,
      "outputs": [
        {
          "output_type": "error",
          "ename": "SyntaxError",
          "evalue": "ignored",
          "traceback": [
            "\u001b[0;36m  File \u001b[0;32m\"<ipython-input-60-33003b2975e8>\"\u001b[0;36m, line \u001b[0;32m1\u001b[0m\n\u001b[0;31m    user@123 = \"Merhaba\"\u001b[0m\n\u001b[0m    ^\u001b[0m\n\u001b[0;31mSyntaxError\u001b[0m\u001b[0;31m:\u001b[0m cannot assign to expression here. Maybe you meant '==' instead of '='?\n"
          ]
        }
      ]
    },
    {
      "cell_type": "code",
      "source": [
        "$price = 34"
      ],
      "metadata": {
        "colab": {
          "base_uri": "https://localhost:8080/",
          "height": 140
        },
        "id": "Kay7e5LbBr_y",
        "outputId": "9bb547f9-5209-4b54-c972-af7c21fa39a1"
      },
      "execution_count": null,
      "outputs": [
        {
          "output_type": "error",
          "ename": "SyntaxError",
          "evalue": "ignored",
          "traceback": [
            "\u001b[0;36m  File \u001b[0;32m\"<ipython-input-61-5f1e16472896>\"\u001b[0;36m, line \u001b[0;32m1\u001b[0m\n\u001b[0;31m    $price = 34\u001b[0m\n\u001b[0m    ^\u001b[0m\n\u001b[0;31mSyntaxError\u001b[0m\u001b[0;31m:\u001b[0m invalid syntax\n"
          ]
        }
      ]
    },
    {
      "cell_type": "markdown",
      "source": [
        "#### **Veri Tipleri**"
      ],
      "metadata": {
        "id": "DBKy2MOUE-S0"
      }
    },
    {
      "cell_type": "markdown",
      "source": [
        "Numeric veri tipleri: int, float"
      ],
      "metadata": {
        "id": "pscgVyQ-Jw44"
      }
    },
    {
      "cell_type": "code",
      "source": [
        "var1 = 5  # int\n",
        "print(type(var1))  # int"
      ],
      "metadata": {
        "id": "3FfqLtnMKKN8",
        "colab": {
          "base_uri": "https://localhost:8080/"
        },
        "outputId": "8b964983-f709-4bfc-8759-c41b725fd7c1"
      },
      "execution_count": null,
      "outputs": [
        {
          "output_type": "stream",
          "name": "stdout",
          "text": [
            "<class 'int'>\n"
          ]
        }
      ]
    },
    {
      "cell_type": "code",
      "source": [
        "var2 = 3.14  # float\n",
        "print(type(var2))  # float"
      ],
      "metadata": {
        "id": "P0LPFqeDKKtP",
        "colab": {
          "base_uri": "https://localhost:8080/"
        },
        "outputId": "9e1a5bc6-e1fa-467e-b8dc-4df57ed31316"
      },
      "execution_count": null,
      "outputs": [
        {
          "output_type": "stream",
          "name": "stdout",
          "text": [
            "<class 'float'>\n"
          ]
        }
      ]
    },
    {
      "cell_type": "markdown",
      "source": [
        "String veri tipi: str"
      ],
      "metadata": {
        "id": "g2k4dsuPJwxG"
      }
    },
    {
      "cell_type": "code",
      "source": [
        "var3 = \"Merhaba dünya!\"\n",
        "print(type(var3))  # str"
      ],
      "metadata": {
        "id": "1qT0GhMyKTaE",
        "colab": {
          "base_uri": "https://localhost:8080/"
        },
        "outputId": "b99bcb23-47c0-4277-eb3e-9a8db9e22fde"
      },
      "execution_count": null,
      "outputs": [
        {
          "output_type": "stream",
          "name": "stdout",
          "text": [
            "<class 'str'>\n"
          ]
        }
      ]
    },
    {
      "cell_type": "markdown",
      "source": [
        "Boolean veri tipi: bool"
      ],
      "metadata": {
        "id": "1VtPJOKdLErq"
      }
    },
    {
      "cell_type": "code",
      "source": [
        "var8 = True\n",
        "print(type(var8))  # bool"
      ],
      "metadata": {
        "id": "LivXHUgwLG7p",
        "colab": {
          "base_uri": "https://localhost:8080/"
        },
        "outputId": "ba7563df-44c1-4db6-e672-d65d05f72549"
      },
      "execution_count": null,
      "outputs": [
        {
          "output_type": "stream",
          "name": "stdout",
          "text": [
            "<class 'bool'>\n"
          ]
        }
      ]
    },
    {
      "cell_type": "markdown",
      "source": [
        "#### **Tip Dönüşümleri**"
      ],
      "metadata": {
        "id": "mrFPuD5kFGsk"
      }
    },
    {
      "cell_type": "code",
      "source": [
        "x = 10\n",
        "float(x)"
      ],
      "metadata": {
        "colab": {
          "base_uri": "https://localhost:8080/"
        },
        "id": "Y0XxSdf_TMbg",
        "outputId": "0e398348-2ac0-4e15-9eef-61d0460bcb68"
      },
      "execution_count": null,
      "outputs": [
        {
          "output_type": "execute_result",
          "data": {
            "text/plain": [
              "10.0"
            ]
          },
          "metadata": {},
          "execution_count": 66
        }
      ]
    },
    {
      "cell_type": "code",
      "source": [
        "x = 10.5\n",
        "int(x)"
      ],
      "metadata": {
        "colab": {
          "base_uri": "https://localhost:8080/"
        },
        "id": "_YU4jvoOTMRl",
        "outputId": "dc275f42-8362-44d3-f7f2-a3eab3bb969a"
      },
      "execution_count": null,
      "outputs": [
        {
          "output_type": "execute_result",
          "data": {
            "text/plain": [
              "10"
            ]
          },
          "metadata": {},
          "execution_count": 67
        }
      ]
    },
    {
      "cell_type": "code",
      "source": [
        "x = 20\n",
        "str(x)"
      ],
      "metadata": {
        "colab": {
          "base_uri": "https://localhost:8080/",
          "height": 35
        },
        "id": "A8QoFRJhTMGH",
        "outputId": "4e707dc1-d17f-4d52-fd29-d548d95bc96d"
      },
      "execution_count": null,
      "outputs": [
        {
          "output_type": "execute_result",
          "data": {
            "text/plain": [
              "'20'"
            ],
            "application/vnd.google.colaboratory.intrinsic+json": {
              "type": "string"
            }
          },
          "metadata": {},
          "execution_count": 68
        }
      ]
    },
    {
      "cell_type": "code",
      "source": [
        "x = True\n",
        "int(x)"
      ],
      "metadata": {
        "colab": {
          "base_uri": "https://localhost:8080/"
        },
        "id": "z9s6EicuTL8v",
        "outputId": "b9154d73-6fd5-479f-f91c-2e9e55da5b40"
      },
      "execution_count": null,
      "outputs": [
        {
          "output_type": "execute_result",
          "data": {
            "text/plain": [
              "1"
            ]
          },
          "metadata": {},
          "execution_count": 69
        }
      ]
    },
    {
      "cell_type": "code",
      "source": [
        "x = 0\n",
        "bool(x)"
      ],
      "metadata": {
        "colab": {
          "base_uri": "https://localhost:8080/"
        },
        "id": "7xhSGzw7Tw-U",
        "outputId": "9446b1dc-a43d-4e83-e73d-ec5a4a931dbb"
      },
      "execution_count": null,
      "outputs": [
        {
          "output_type": "execute_result",
          "data": {
            "text/plain": [
              "False"
            ]
          },
          "metadata": {},
          "execution_count": 70
        }
      ]
    },
    {
      "cell_type": "markdown",
      "source": [
        "**Not:** metinsel bir değeriyi sayısal veriye dönüştürmemiz için o metnin uygun bir sayısal ifade içermesi gerekir"
      ],
      "metadata": {
        "id": "551AT_IgUZxh"
      }
    },
    {
      "cell_type": "code",
      "source": [
        "x = \"15\"\n",
        "int(x)"
      ],
      "metadata": {
        "colab": {
          "base_uri": "https://localhost:8080/"
        },
        "id": "KsFexO6CTML1",
        "outputId": "fb614d51-4ba6-46e6-be03-b7091bcf0218"
      },
      "execution_count": null,
      "outputs": [
        {
          "output_type": "execute_result",
          "data": {
            "text/plain": [
              "15"
            ]
          },
          "metadata": {},
          "execution_count": 71
        }
      ]
    },
    {
      "cell_type": "code",
      "source": [
        "x = \"Uğur\"\n",
        "int(x)"
      ],
      "metadata": {
        "colab": {
          "base_uri": "https://localhost:8080/",
          "height": 193
        },
        "id": "0nXv9PiJT9-o",
        "outputId": "c2de5030-1159-4a8f-b1b9-fbdf2884c729"
      },
      "execution_count": null,
      "outputs": [
        {
          "output_type": "error",
          "ename": "ValueError",
          "evalue": "ignored",
          "traceback": [
            "\u001b[0;31m---------------------------------------------------------------------------\u001b[0m",
            "\u001b[0;31mValueError\u001b[0m                                Traceback (most recent call last)",
            "\u001b[0;32m<ipython-input-72-ee3ac5325d95>\u001b[0m in \u001b[0;36m<cell line: 2>\u001b[0;34m()\u001b[0m\n\u001b[1;32m      1\u001b[0m \u001b[0mx\u001b[0m \u001b[0;34m=\u001b[0m \u001b[0;34m\"Uğur\"\u001b[0m\u001b[0;34m\u001b[0m\u001b[0;34m\u001b[0m\u001b[0m\n\u001b[0;32m----> 2\u001b[0;31m \u001b[0mint\u001b[0m\u001b[0;34m(\u001b[0m\u001b[0mx\u001b[0m\u001b[0;34m)\u001b[0m\u001b[0;34m\u001b[0m\u001b[0;34m\u001b[0m\u001b[0m\n\u001b[0m",
            "\u001b[0;31mValueError\u001b[0m: invalid literal for int() with base 10: 'Uğur'"
          ]
        }
      ]
    },
    {
      "cell_type": "markdown",
      "source": [
        "#### **Çoklu Atama**"
      ],
      "metadata": {
        "id": "EwtatrATITBX"
      }
    },
    {
      "cell_type": "code",
      "source": [
        "a=10\n",
        "b=10\n",
        "c=10\n",
        "\n",
        "print(a, b, c)"
      ],
      "metadata": {
        "id": "KGxpSTaXIZT4",
        "colab": {
          "base_uri": "https://localhost:8080/"
        },
        "outputId": "f98b7fce-11f8-489e-93d1-72b46be80723"
      },
      "execution_count": null,
      "outputs": [
        {
          "output_type": "stream",
          "name": "stdout",
          "text": [
            "10 10 10\n"
          ]
        }
      ]
    },
    {
      "cell_type": "code",
      "source": [
        "a,b,c = 1, 2, \"Uğur\"\n",
        "\n",
        "print(a)\n",
        "print(b)\n",
        "print(c)"
      ],
      "metadata": {
        "id": "Qa8ivPqYDWQ7",
        "colab": {
          "base_uri": "https://localhost:8080/"
        },
        "outputId": "8d03b4f9-6a7c-4311-87dc-71875a5b905d"
      },
      "execution_count": null,
      "outputs": [
        {
          "output_type": "stream",
          "name": "stdout",
          "text": [
            "1\n",
            "2\n",
            "Uğur\n"
          ]
        }
      ]
    },
    {
      "cell_type": "code",
      "source": [
        "a, b, c = 10, 20, 30\n",
        "\n",
        "print(a, b, c)"
      ],
      "metadata": {
        "id": "qaqXqY6qDcks",
        "colab": {
          "base_uri": "https://localhost:8080/"
        },
        "outputId": "72c6865c-5a82-43b3-ba78-0b8f4e72dbcc"
      },
      "execution_count": null,
      "outputs": [
        {
          "output_type": "stream",
          "name": "stdout",
          "text": [
            "10 20 30\n"
          ]
        }
      ]
    },
    {
      "cell_type": "code",
      "source": [
        "a = b = c = 10\n",
        "print(a, b, c)"
      ],
      "metadata": {
        "id": "uGYuLcs1Dgrj",
        "colab": {
          "base_uri": "https://localhost:8080/"
        },
        "outputId": "ff2db26e-5a04-400a-835b-5f4317a4dd24"
      },
      "execution_count": null,
      "outputs": [
        {
          "output_type": "stream",
          "name": "stdout",
          "text": [
            "10 10 10\n"
          ]
        }
      ]
    },
    {
      "cell_type": "markdown",
      "source": [
        "#### **Dinamik Değer Kullanımı**"
      ],
      "metadata": {
        "id": "_vuga2PLMkid"
      }
    },
    {
      "cell_type": "code",
      "source": [
        "# format fonksiyonu ile dinamik değişken kullanımı\n",
        "ad = 'Uğur'\n",
        "yas = 26"
      ],
      "metadata": {
        "id": "ryNIaId0MfB4"
      },
      "execution_count": null,
      "outputs": []
    },
    {
      "cell_type": "code",
      "source": [
        "print(f\"Benim adım {ad}, yaşım {yas}\")"
      ],
      "metadata": {
        "colab": {
          "base_uri": "https://localhost:8080/"
        },
        "id": "DvM_Ut4INKof",
        "outputId": "52ac8b20-26b5-400f-9a80-c434ea7ef455"
      },
      "execution_count": null,
      "outputs": [
        {
          "output_type": "stream",
          "name": "stdout",
          "text": [
            "Benim adım Uğur, yaşım 26\n"
          ]
        }
      ]
    },
    {
      "cell_type": "code",
      "source": [
        "print(\"Benim adım {}, yaşım {}\".format(ad, yas))"
      ],
      "metadata": {
        "colab": {
          "base_uri": "https://localhost:8080/"
        },
        "id": "Xt3St2gCNXDi",
        "outputId": "d742b893-41da-4929-87de-80d1f34a0135"
      },
      "execution_count": null,
      "outputs": [
        {
          "output_type": "stream",
          "name": "stdout",
          "text": [
            "Benim adım Uğur, yaşım 26\n"
          ]
        }
      ]
    },
    {
      "cell_type": "code",
      "source": [
        "print(\"Benim adım {}, yaşım {}\".format('Uğur', 26))"
      ],
      "metadata": {
        "colab": {
          "base_uri": "https://localhost:8080/"
        },
        "id": "fdMh3azKNMPd",
        "outputId": "91332977-6c8b-4146-e596-7c15fd6f29b0"
      },
      "execution_count": null,
      "outputs": [
        {
          "output_type": "stream",
          "name": "stdout",
          "text": [
            "Benim adım Uğur, yaşım 26\n"
          ]
        }
      ]
    },
    {
      "cell_type": "code",
      "source": [
        "print(\"Benim adım {0}, yaşım {1}\".format('Uğur', 26))"
      ],
      "metadata": {
        "colab": {
          "base_uri": "https://localhost:8080/"
        },
        "id": "xqQUzsrcNN-0",
        "outputId": "101a6175-3864-4ae1-bbc5-511866757993"
      },
      "execution_count": null,
      "outputs": [
        {
          "output_type": "stream",
          "name": "stdout",
          "text": [
            "Benim adım Uğur, yaşım 26\n"
          ]
        }
      ]
    },
    {
      "cell_type": "code",
      "source": [
        "print(\"Benim adım {1}, yaşım {0}\".format('Uğur', 26))"
      ],
      "metadata": {
        "colab": {
          "base_uri": "https://localhost:8080/"
        },
        "id": "jeiVvRXsNPqg",
        "outputId": "906b1511-2bbd-4d17-e523-7060027706c5"
      },
      "execution_count": null,
      "outputs": [
        {
          "output_type": "stream",
          "name": "stdout",
          "text": [
            "Benim adım 26, yaşım Uğur\n"
          ]
        }
      ]
    },
    {
      "cell_type": "code",
      "source": [
        "print(\"Benim adım {ad}, yaşım {yas}\".format(ad='Uğur', yas=26))"
      ],
      "metadata": {
        "colab": {
          "base_uri": "https://localhost:8080/"
        },
        "id": "OYLk9BSZNRVG",
        "outputId": "86d5c162-b1f5-437a-c5bc-1cc121023bd6"
      },
      "execution_count": null,
      "outputs": [
        {
          "output_type": "stream",
          "name": "stdout",
          "text": [
            "Benim adım Uğur, yaşım 26\n"
          ]
        }
      ]
    },
    {
      "cell_type": "markdown",
      "source": [
        "### **Temel Operatörler**\n",
        "Operatörler, belirli bir eylemi veya işlemi gerçekleştirmek için kullanılan semboller veya işaretlerdir. Operatörler, değişkenler, değerler veya ifadeler arasında matematiksel işlemleri, karşılaştırmaları veya diğer çeşitli eylemleri gerçekleştirmek için kullanılır."
      ],
      "metadata": {
        "id": "t8e5unnOiP6t"
      }
    },
    {
      "cell_type": "markdown",
      "source": [
        "#### **Aritmetik Operatörler**\n",
        "* `+`: Toplama işlemi\n",
        "* `-`: Çıkarma işlemi\n",
        "* `*`: Çarpma işlemi\n",
        "* `/`: Bölme işlemi\n",
        "* `%`: Mod alma işlemi\n",
        "* `**`: Üs alma işlemi"
      ],
      "metadata": {
        "id": "vWgk5Jo_VJsb"
      }
    },
    {
      "cell_type": "code",
      "source": [
        "a = 10\n",
        "b = 3"
      ],
      "metadata": {
        "id": "qeEuJfCGlEH7"
      },
      "execution_count": null,
      "outputs": []
    },
    {
      "cell_type": "code",
      "source": [
        "a + b"
      ],
      "metadata": {
        "colab": {
          "base_uri": "https://localhost:8080/"
        },
        "id": "2uT_ZM4Cd-Lb",
        "outputId": "1b127905-4630-44c9-c577-380ac3c97127"
      },
      "execution_count": null,
      "outputs": [
        {
          "output_type": "execute_result",
          "data": {
            "text/plain": [
              "13"
            ]
          },
          "metadata": {},
          "execution_count": 85
        }
      ]
    },
    {
      "cell_type": "code",
      "source": [
        "a - b"
      ],
      "metadata": {
        "colab": {
          "base_uri": "https://localhost:8080/"
        },
        "id": "OqV0BcmxeA1E",
        "outputId": "0dc2b753-f0b6-4ae0-e592-2e3f0d64ef3d"
      },
      "execution_count": null,
      "outputs": [
        {
          "output_type": "execute_result",
          "data": {
            "text/plain": [
              "7"
            ]
          },
          "metadata": {},
          "execution_count": 86
        }
      ]
    },
    {
      "cell_type": "code",
      "source": [
        "a * b"
      ],
      "metadata": {
        "colab": {
          "base_uri": "https://localhost:8080/"
        },
        "id": "TGZvmXYeeCaT",
        "outputId": "11f66330-1747-49db-ae74-368b6cfbb4f9"
      },
      "execution_count": null,
      "outputs": [
        {
          "output_type": "execute_result",
          "data": {
            "text/plain": [
              "30"
            ]
          },
          "metadata": {},
          "execution_count": 87
        }
      ]
    },
    {
      "cell_type": "code",
      "source": [
        "a / b"
      ],
      "metadata": {
        "colab": {
          "base_uri": "https://localhost:8080/"
        },
        "id": "4RUCiqcLeEg3",
        "outputId": "b4ce6af8-1f51-46e2-aa87-9db55669a607"
      },
      "execution_count": null,
      "outputs": [
        {
          "output_type": "execute_result",
          "data": {
            "text/plain": [
              "3.3333333333333335"
            ]
          },
          "metadata": {},
          "execution_count": 88
        }
      ]
    },
    {
      "cell_type": "code",
      "source": [
        "a % b"
      ],
      "metadata": {
        "colab": {
          "base_uri": "https://localhost:8080/"
        },
        "id": "m3PVax9geGRM",
        "outputId": "60e7b469-9954-4222-eb43-be451269e4e3"
      },
      "execution_count": null,
      "outputs": [
        {
          "output_type": "execute_result",
          "data": {
            "text/plain": [
              "1"
            ]
          },
          "metadata": {},
          "execution_count": 89
        }
      ]
    },
    {
      "cell_type": "code",
      "source": [
        "a ** b"
      ],
      "metadata": {
        "colab": {
          "base_uri": "https://localhost:8080/"
        },
        "id": "6JKsGluaeHvm",
        "outputId": "1d7c0dba-a5d3-430e-dca3-6750f9681e26"
      },
      "execution_count": null,
      "outputs": [
        {
          "output_type": "execute_result",
          "data": {
            "text/plain": [
              "1000"
            ]
          },
          "metadata": {},
          "execution_count": 90
        }
      ]
    },
    {
      "cell_type": "markdown",
      "source": [
        "#### **Operatör Öncelik Kuralı (PEMDAS Kuralı)**\n",
        "\n",
        "Operatörlerin önceliği, matematikteki genel operatör önceliklerine göre belirlenir. PEMDAS kuralına göre öncelik sırası şöyle:\n",
        "\n",
        "1. P – Parantez (Parantheses)\n",
        "2. E – Üs Alma (Exponentiation)\n",
        "3. M – Çarpma (Multiplication)\n",
        "4. D – Bölme (Division)\n",
        "5. A – Toplama (Addition)\n",
        "6. S – Çıkarma (Subtraction)\n",
        "\n",
        "**Not:** `*`, `/` ve `%` operatörleri kendi içlerinde soldan sağa öncelik sırasına sahiptir.  "
      ],
      "metadata": {
        "id": "etjrC6iZWNHw"
      }
    },
    {
      "cell_type": "code",
      "source": [
        "10 + 20 / 5 * 3"
      ],
      "metadata": {
        "colab": {
          "base_uri": "https://localhost:8080/"
        },
        "id": "vE4yTarPw1sx",
        "outputId": "c7303dcf-0af3-4d98-e1d3-6f20c193eef0"
      },
      "execution_count": null,
      "outputs": [
        {
          "output_type": "execute_result",
          "data": {
            "text/plain": [
              "22.0"
            ]
          },
          "metadata": {},
          "execution_count": 91
        }
      ]
    },
    {
      "cell_type": "code",
      "source": [
        "15 / 3 * 5"
      ],
      "metadata": {
        "colab": {
          "base_uri": "https://localhost:8080/"
        },
        "id": "_UVe9J8rxIDG",
        "outputId": "fd2f7edb-88b2-47e5-8b7d-f1d522f0727c"
      },
      "execution_count": null,
      "outputs": [
        {
          "output_type": "execute_result",
          "data": {
            "text/plain": [
              "25.0"
            ]
          },
          "metadata": {},
          "execution_count": 92
        }
      ]
    },
    {
      "cell_type": "code",
      "source": [
        "2 ** 3 ** 2  # Sağdan sola doğru işlem yapılır. Beklenen çıktı: 512"
      ],
      "metadata": {
        "colab": {
          "base_uri": "https://localhost:8080/"
        },
        "id": "Nv3tTDLNmDXI",
        "outputId": "66aeb84a-c3de-4bec-f41a-41a6ee640def"
      },
      "execution_count": null,
      "outputs": [
        {
          "output_type": "execute_result",
          "data": {
            "text/plain": [
              "512"
            ]
          },
          "metadata": {},
          "execution_count": 93
        }
      ]
    },
    {
      "cell_type": "code",
      "source": [
        "(2 ** 3) ** 2  # Parantez önceliklidir. Beklenen çıktı: 64"
      ],
      "metadata": {
        "colab": {
          "base_uri": "https://localhost:8080/"
        },
        "id": "x9-Iyi7pvvQp",
        "outputId": "ac06ee95-9474-4d61-ca22-7f86118684f3"
      },
      "execution_count": null,
      "outputs": [
        {
          "output_type": "execute_result",
          "data": {
            "text/plain": [
              "64"
            ]
          },
          "metadata": {},
          "execution_count": 94
        }
      ]
    },
    {
      "cell_type": "code",
      "source": [
        "8 * 4 / 2 % 3"
      ],
      "metadata": {
        "id": "XxZ7zzSQ2DoZ",
        "colab": {
          "base_uri": "https://localhost:8080/"
        },
        "outputId": "85dfa710-89e5-430a-9c38-1e818e9c3643"
      },
      "execution_count": null,
      "outputs": [
        {
          "output_type": "execute_result",
          "data": {
            "text/plain": [
              "1.0"
            ]
          },
          "metadata": {},
          "execution_count": 95
        }
      ]
    },
    {
      "cell_type": "code",
      "source": [
        "5 + 3 * 2 / 7 - 3 ** 2 % 4 # Beklenen çıktı: 4.857"
      ],
      "metadata": {
        "colab": {
          "base_uri": "https://localhost:8080/"
        },
        "id": "velY3f19zqfG",
        "outputId": "742dcccb-0544-4caa-fadc-fc4035c41d3e"
      },
      "execution_count": null,
      "outputs": [
        {
          "output_type": "execute_result",
          "data": {
            "text/plain": [
              "4.857142857142857"
            ]
          },
          "metadata": {},
          "execution_count": 96
        }
      ]
    },
    {
      "cell_type": "markdown",
      "source": [
        "5 + 3 * 2 / 7 - 3 ** 2 % 4 -> (3 ** 2)\n",
        "\n",
        "= 5 + 3 * 2 / 7 - 9 % 4 -> (3 * 2), (9 % 4)\n",
        "\n",
        "= 5 + 6 / 7 - 1 -> (6 / 7)\n",
        "\n",
        "= 5 + 0.8571428571428571 - 1\n",
        "\n",
        "= 4.857142857142857"
      ],
      "metadata": {
        "id": "ajxvAS6YBIL8"
      }
    },
    {
      "cell_type": "code",
      "source": [
        "5 + 3 * 2 / (7 - 3) ** 2 % 4 # Beklenen çıktı: 5.375"
      ],
      "metadata": {
        "id": "ZIzBahEqmAGv",
        "colab": {
          "base_uri": "https://localhost:8080/"
        },
        "outputId": "a732e0ed-f9f7-4011-dfad-f6e83b51753b"
      },
      "execution_count": null,
      "outputs": [
        {
          "output_type": "execute_result",
          "data": {
            "text/plain": [
              "5.375"
            ]
          },
          "metadata": {},
          "execution_count": 97
        }
      ]
    },
    {
      "cell_type": "markdown",
      "source": [
        "#### **Karşılaştırma Operatörleri**\n",
        "* `==`: Eşittir operatörü\n",
        "* `!=`: Eşit değil operatörü\n",
        "* `>`: Büyüklük operatörü\n",
        "* `<`: Küçüklük operatörü\n",
        "* `>=`: Büyük eşit operatörü\n",
        "* `<=`: Küçük eşit operatörü"
      ],
      "metadata": {
        "id": "bXH17lYTWkUi"
      }
    },
    {
      "cell_type": "code",
      "source": [
        "a = 15\n",
        "b = 20"
      ],
      "metadata": {
        "id": "YKcL9fBonN7G"
      },
      "execution_count": null,
      "outputs": []
    },
    {
      "cell_type": "code",
      "source": [
        "a == b"
      ],
      "metadata": {
        "colab": {
          "base_uri": "https://localhost:8080/"
        },
        "id": "o_VLr8rJezeS",
        "outputId": "047f7d03-33fe-4e15-959a-1dccf539d332"
      },
      "execution_count": null,
      "outputs": [
        {
          "output_type": "execute_result",
          "data": {
            "text/plain": [
              "False"
            ]
          },
          "metadata": {},
          "execution_count": 99
        }
      ]
    },
    {
      "cell_type": "code",
      "source": [
        "a != b"
      ],
      "metadata": {
        "colab": {
          "base_uri": "https://localhost:8080/"
        },
        "id": "-DPWY1PLe1B3",
        "outputId": "ee22a735-fe54-4bda-b652-bd76fc238eaf"
      },
      "execution_count": null,
      "outputs": [
        {
          "output_type": "execute_result",
          "data": {
            "text/plain": [
              "True"
            ]
          },
          "metadata": {},
          "execution_count": 100
        }
      ]
    },
    {
      "cell_type": "code",
      "source": [
        "a > b"
      ],
      "metadata": {
        "colab": {
          "base_uri": "https://localhost:8080/"
        },
        "id": "gewNiMdHe2cs",
        "outputId": "3f96491b-bcd0-4630-925f-bdb83d60dfb7"
      },
      "execution_count": null,
      "outputs": [
        {
          "output_type": "execute_result",
          "data": {
            "text/plain": [
              "False"
            ]
          },
          "metadata": {},
          "execution_count": 101
        }
      ]
    },
    {
      "cell_type": "code",
      "source": [
        "a < b"
      ],
      "metadata": {
        "colab": {
          "base_uri": "https://localhost:8080/"
        },
        "id": "ycdDkze-e3ry",
        "outputId": "e4d95996-24ee-4eb8-f1ca-b1e23826d218"
      },
      "execution_count": null,
      "outputs": [
        {
          "output_type": "execute_result",
          "data": {
            "text/plain": [
              "True"
            ]
          },
          "metadata": {},
          "execution_count": 102
        }
      ]
    },
    {
      "cell_type": "code",
      "source": [
        "a >= b"
      ],
      "metadata": {
        "colab": {
          "base_uri": "https://localhost:8080/"
        },
        "id": "hiRCYlsNe5EQ",
        "outputId": "2a86b6b6-c395-4020-c6b3-3f3b193f3a80"
      },
      "execution_count": null,
      "outputs": [
        {
          "output_type": "execute_result",
          "data": {
            "text/plain": [
              "False"
            ]
          },
          "metadata": {},
          "execution_count": 103
        }
      ]
    },
    {
      "cell_type": "code",
      "source": [
        "a <= b"
      ],
      "metadata": {
        "colab": {
          "base_uri": "https://localhost:8080/"
        },
        "id": "1Xuxifbze6PJ",
        "outputId": "ac366bbf-d86f-493a-a062-9b70ceb2472a"
      },
      "execution_count": null,
      "outputs": [
        {
          "output_type": "execute_result",
          "data": {
            "text/plain": [
              "True"
            ]
          },
          "metadata": {},
          "execution_count": 104
        }
      ]
    },
    {
      "cell_type": "markdown",
      "source": [
        "#### **Logical Operators**\n",
        "\n",
        "* Ve `and`: `x and y` (hem `x` hem de `y` doğru mu?)\n",
        "* Veya `or`: `x or y` (`x` veya `y` doğru mu?)\n",
        "* Değil `not`: `not x` (`x` doğru değil mi?)\n",
        "\n",
        "`and` Mantıksal Operatörü Tablosu\n",
        "\n",
        "| `x`    | `y`    | `x and y` |\n",
        "|--------|--------|-----------|\n",
        "| True   | True   | True      |\n",
        "| True   | False  | False     |\n",
        "| False  | True   | False     |\n",
        "| False  | False  | False     |\n",
        "\n",
        "`or` Mantıksal Operatörü Tablosu\n",
        "\n",
        "| `x`    | `y`    | `x or y`  |\n",
        "|--------|--------|-----------|\n",
        "| True   | True   | True      |\n",
        "| True   | False  | True      |\n",
        "| False  | True   | True      |\n",
        "| False  | False  | False     |\n"
      ],
      "metadata": {
        "id": "nhr-EELoYuiw"
      }
    },
    {
      "cell_type": "code",
      "source": [
        "a =  True\n",
        "b = False"
      ],
      "metadata": {
        "id": "R91yD-ausPpY"
      },
      "execution_count": null,
      "outputs": []
    },
    {
      "cell_type": "code",
      "source": [
        "a and b"
      ],
      "metadata": {
        "colab": {
          "base_uri": "https://localhost:8080/"
        },
        "id": "9cs03xgqfLL3",
        "outputId": "e78254cd-d017-4896-9d18-4c75edcbac0b"
      },
      "execution_count": null,
      "outputs": [
        {
          "output_type": "execute_result",
          "data": {
            "text/plain": [
              "False"
            ]
          },
          "metadata": {},
          "execution_count": 106
        }
      ]
    },
    {
      "cell_type": "code",
      "source": [
        "a or b"
      ],
      "metadata": {
        "colab": {
          "base_uri": "https://localhost:8080/"
        },
        "id": "hdGxzJyAfbvz",
        "outputId": "9e06346a-2b79-474c-b328-66ff60134baf"
      },
      "execution_count": null,
      "outputs": [
        {
          "output_type": "execute_result",
          "data": {
            "text/plain": [
              "True"
            ]
          },
          "metadata": {},
          "execution_count": 107
        }
      ]
    },
    {
      "cell_type": "code",
      "source": [
        "sonuc = a or b\n",
        "not sonuc"
      ],
      "metadata": {
        "colab": {
          "base_uri": "https://localhost:8080/"
        },
        "id": "OFuQw0_pfc-m",
        "outputId": "228906fc-5252-4dc7-aa41-088175123884"
      },
      "execution_count": null,
      "outputs": [
        {
          "output_type": "execute_result",
          "data": {
            "text/plain": [
              "False"
            ]
          },
          "metadata": {},
          "execution_count": 108
        }
      ]
    },
    {
      "cell_type": "markdown",
      "source": [
        "### **String'ler**\n",
        "Karakter gibi tek bir alfasayısal değerden veya birçok karakterin bir araya gelmesinden oluşan veri tipidir. `\"\"` veya `''` ile gösterilirler."
      ],
      "metadata": {
        "id": "OJ4dnhhKVC2D"
      }
    },
    {
      "cell_type": "code",
      "source": [
        "string = \"Python\"\n",
        "print(string)"
      ],
      "metadata": {
        "id": "oDSLda4dVJET",
        "colab": {
          "base_uri": "https://localhost:8080/"
        },
        "outputId": "f779f117-5f91-4792-e072-d4124308c625"
      },
      "execution_count": null,
      "outputs": [
        {
          "output_type": "stream",
          "name": "stdout",
          "text": [
            "Python\n"
          ]
        }
      ]
    },
    {
      "cell_type": "markdown",
      "source": [
        "#### **Indexleme**"
      ],
      "metadata": {
        "id": "m-_D_J9jJYVQ"
      }
    },
    {
      "cell_type": "markdown",
      "source": [
        "|  P  |  Y  |  T  |  H  |  O  |  N  |\n",
        "|-----|-----|-----|-----|-----|-----|\n",
        "|  0  |  1  |  2  |  3  |  4  |  5  |\n",
        "|  0  | -5  | -4  | -3  | -2  | -1  |\n",
        "\n",
        "Bilgisayar belleği, veri parçalarını tutmak için bir adres sistemi kullanır ve bu adresler sıfırdan başlar. Dolayısıyla, bir liste veya dizi içindeki her bir öğe, bellekte bir adresle temsil edilir ve bu adresler sıfırdan başlayarak numaralandırılır.\n",
        "\n",
        "Tablodaki indexleme, bu kuralı temsil eder. Örneğin, \"PYTHON\" kelimesindeki \"P\" harfi 0 indexine, \"N\" harfi ise 5 indexine sahiptir. Negatif indexleme ise listenin sonundan başlayarak geriye doğru indexleme yapar. Yani, sondan birinci eleman -1 indexine, sondan ikinci eleman -2 indexine sahiptir. Bu şekilde, indexleme sistemi listenin elemanlarına erişmek için standart bir referans noktası sağlar."
      ],
      "metadata": {
        "id": "uv7otMZ-H5ey"
      }
    },
    {
      "cell_type": "code",
      "source": [
        "string[4]"
      ],
      "metadata": {
        "colab": {
          "base_uri": "https://localhost:8080/",
          "height": 35
        },
        "id": "XGQd49ekIsfC",
        "outputId": "8e65e520-0b0e-4473-95d6-d4886dde387c"
      },
      "execution_count": null,
      "outputs": [
        {
          "output_type": "execute_result",
          "data": {
            "text/plain": [
              "'o'"
            ],
            "application/vnd.google.colaboratory.intrinsic+json": {
              "type": "string"
            }
          },
          "metadata": {},
          "execution_count": 110
        }
      ]
    },
    {
      "cell_type": "code",
      "source": [
        "string[-3]"
      ],
      "metadata": {
        "id": "L9D4bDSZSP3O",
        "colab": {
          "base_uri": "https://localhost:8080/",
          "height": 35
        },
        "outputId": "cd48c415-a45f-4c2a-f372-3b67f7f96997"
      },
      "execution_count": null,
      "outputs": [
        {
          "output_type": "execute_result",
          "data": {
            "text/plain": [
              "'h'"
            ],
            "application/vnd.google.colaboratory.intrinsic+json": {
              "type": "string"
            }
          },
          "metadata": {},
          "execution_count": 111
        }
      ]
    },
    {
      "cell_type": "markdown",
      "source": [
        "* `[]` : Tek bir eleman\n",
        "* `[:]` : Başlangıç ve bitiş arasındaki elemanlar\n",
        "* `[::]` : Başlangıç ve bitiş arasındaki elemanlar(adım değerli)"
      ],
      "metadata": {
        "id": "Swy7f1e5SXtF"
      }
    },
    {
      "cell_type": "code",
      "source": [
        "string[2:]"
      ],
      "metadata": {
        "id": "8-MRysZNSR5F",
        "colab": {
          "base_uri": "https://localhost:8080/",
          "height": 35
        },
        "outputId": "66b8653a-82ce-47fa-ff8c-4f6fc2bb4bf6"
      },
      "execution_count": null,
      "outputs": [
        {
          "output_type": "execute_result",
          "data": {
            "text/plain": [
              "'thon'"
            ],
            "application/vnd.google.colaboratory.intrinsic+json": {
              "type": "string"
            }
          },
          "metadata": {},
          "execution_count": 112
        }
      ]
    },
    {
      "cell_type": "code",
      "source": [
        "string[1:5:3]"
      ],
      "metadata": {
        "id": "dIKXQ-lGTMla",
        "colab": {
          "base_uri": "https://localhost:8080/",
          "height": 35
        },
        "outputId": "28a0ef86-8ddf-47c7-bd32-43622f64a190"
      },
      "execution_count": null,
      "outputs": [
        {
          "output_type": "execute_result",
          "data": {
            "text/plain": [
              "'yo'"
            ],
            "application/vnd.google.colaboratory.intrinsic+json": {
              "type": "string"
            }
          },
          "metadata": {},
          "execution_count": 113
        }
      ]
    },
    {
      "cell_type": "code",
      "source": [
        "len(string)"
      ],
      "metadata": {
        "id": "h9uSqc2HTbxR",
        "colab": {
          "base_uri": "https://localhost:8080/"
        },
        "outputId": "8952be1b-4df2-4a85-dad4-9a732604eb21"
      },
      "execution_count": null,
      "outputs": [
        {
          "output_type": "execute_result",
          "data": {
            "text/plain": [
              "6"
            ]
          },
          "metadata": {},
          "execution_count": 114
        }
      ]
    },
    {
      "cell_type": "markdown",
      "source": [
        "#### **Metin Birleştirimi (String Concatenation)**"
      ],
      "metadata": {
        "id": "K8G8xdLIJGbw"
      }
    },
    {
      "cell_type": "code",
      "source": [
        "string = string + \" öğren!\"\n",
        "string"
      ],
      "metadata": {
        "id": "Tl0LNw46Tg07",
        "colab": {
          "base_uri": "https://localhost:8080/",
          "height": 35
        },
        "outputId": "a0807879-00b7-4fae-b832-689e25921d8e"
      },
      "execution_count": null,
      "outputs": [
        {
          "output_type": "execute_result",
          "data": {
            "text/plain": [
              "'Python öğren!'"
            ],
            "application/vnd.google.colaboratory.intrinsic+json": {
              "type": "string"
            }
          },
          "metadata": {},
          "execution_count": 115
        }
      ]
    },
    {
      "cell_type": "code",
      "source": [
        "string * 5"
      ],
      "metadata": {
        "id": "45Oqb4KuTzTe",
        "colab": {
          "base_uri": "https://localhost:8080/",
          "height": 35
        },
        "outputId": "4fa5dbbe-3f58-46c2-f924-d6af46926ea5"
      },
      "execution_count": null,
      "outputs": [
        {
          "output_type": "execute_result",
          "data": {
            "text/plain": [
              "'Python öğren!Python öğren!Python öğren!Python öğren!Python öğren!'"
            ],
            "application/vnd.google.colaboratory.intrinsic+json": {
              "type": "string"
            }
          },
          "metadata": {},
          "execution_count": 116
        }
      ]
    },
    {
      "cell_type": "code",
      "source": [
        "string / 5"
      ],
      "metadata": {
        "colab": {
          "base_uri": "https://localhost:8080/",
          "height": 175
        },
        "id": "ClnfhPQpOjb2",
        "outputId": "6c8a72fa-048f-45c5-ee7c-de060b201c41"
      },
      "execution_count": null,
      "outputs": [
        {
          "output_type": "error",
          "ename": "TypeError",
          "evalue": "ignored",
          "traceback": [
            "\u001b[0;31m---------------------------------------------------------------------------\u001b[0m",
            "\u001b[0;31mTypeError\u001b[0m                                 Traceback (most recent call last)",
            "\u001b[0;32m<ipython-input-117-223a56c5a286>\u001b[0m in \u001b[0;36m<cell line: 1>\u001b[0;34m()\u001b[0m\n\u001b[0;32m----> 1\u001b[0;31m \u001b[0mstring\u001b[0m \u001b[0;34m/\u001b[0m \u001b[0;36m5\u001b[0m\u001b[0;34m\u001b[0m\u001b[0;34m\u001b[0m\u001b[0m\n\u001b[0m",
            "\u001b[0;31mTypeError\u001b[0m: unsupported operand type(s) for /: 'str' and 'int'"
          ]
        }
      ]
    },
    {
      "cell_type": "markdown",
      "source": [
        "#### **Yaygın Kullanılan String Fonksiyonları**\n",
        "* `upper()`: Bir stringin tüm karakterlerini büyük harfe dönüştürür.\n",
        "\n",
        "* `lower()`: Bir stringin tüm karakterlerini küçük harfe dönüştürür.\n",
        "\n",
        "* `title()`: Bir stringin her kelimenin ilk harfini büyük harfe çevirerek başlık formatına getirir.\n",
        "\n",
        "* `split()`: Bir stringi belirli bir ayırıcı karaktere göre böler ve parçalara ayırır.\n",
        "\n",
        "* `join()`: Birleştirme işlemi yaparak bir listenin veya iterable'ın elemanlarını bir string içinde birleştirir.\n",
        "\n",
        "* `strip()`: Bir stringin başındaki ve sonundaki boşlukları (veya belirtilen karakterleri) kaldırır.\n",
        "\n",
        "* `lstrip()`: Bir stringin sadece başındaki boşlukları (veya belirtilen karakterleri) kaldırır.\n",
        "\n",
        "* `rstrip()`: Bir stringin sadece sonundaki boşlukları (veya belirtilen karakterleri) kaldırır."
      ],
      "metadata": {
        "id": "Po9sETv0Jxz7"
      }
    },
    {
      "cell_type": "code",
      "source": [
        "string = \"uğur ipekdüzen\"\n",
        "print(string)"
      ],
      "metadata": {
        "colab": {
          "base_uri": "https://localhost:8080/"
        },
        "id": "nHHZiTZ0Jjvy",
        "outputId": "8051097b-2d6b-4c62-a7ca-3ae9e98740ee"
      },
      "execution_count": null,
      "outputs": [
        {
          "output_type": "stream",
          "name": "stdout",
          "text": [
            "uğur ipekdüzen\n"
          ]
        }
      ]
    },
    {
      "cell_type": "code",
      "source": [
        "string.upper()"
      ],
      "metadata": {
        "colab": {
          "base_uri": "https://localhost:8080/",
          "height": 35
        },
        "id": "3lEfb3DnJlpK",
        "outputId": "0d964fe2-964c-4909-f1a2-24ffba94776f"
      },
      "execution_count": null,
      "outputs": [
        {
          "output_type": "execute_result",
          "data": {
            "text/plain": [
              "'UĞUR IPEKDÜZEN'"
            ],
            "application/vnd.google.colaboratory.intrinsic+json": {
              "type": "string"
            }
          },
          "metadata": {},
          "execution_count": 119
        }
      ]
    },
    {
      "cell_type": "code",
      "source": [
        "string.lower()"
      ],
      "metadata": {
        "colab": {
          "base_uri": "https://localhost:8080/",
          "height": 35
        },
        "id": "ERjMwf9pJnQi",
        "outputId": "23da2e3d-bb97-457b-a0ac-c9312d37f30c"
      },
      "execution_count": null,
      "outputs": [
        {
          "output_type": "execute_result",
          "data": {
            "text/plain": [
              "'uğur ipekdüzen'"
            ],
            "application/vnd.google.colaboratory.intrinsic+json": {
              "type": "string"
            }
          },
          "metadata": {},
          "execution_count": 120
        }
      ]
    },
    {
      "cell_type": "code",
      "source": [
        "string.title()"
      ],
      "metadata": {
        "colab": {
          "base_uri": "https://localhost:8080/",
          "height": 35
        },
        "id": "kHh2afuTY-R4",
        "outputId": "ed69dbdf-b095-456b-a7b1-af44e3dd6571"
      },
      "execution_count": null,
      "outputs": [
        {
          "output_type": "execute_result",
          "data": {
            "text/plain": [
              "'Uğur Ipekdüzen'"
            ],
            "application/vnd.google.colaboratory.intrinsic+json": {
              "type": "string"
            }
          },
          "metadata": {},
          "execution_count": 121
        }
      ]
    },
    {
      "cell_type": "code",
      "source": [
        "string.split()"
      ],
      "metadata": {
        "colab": {
          "base_uri": "https://localhost:8080/"
        },
        "id": "PcktGBsPJo9J",
        "outputId": "e6f6da76-3076-4903-a9e2-d66d5e083208"
      },
      "execution_count": null,
      "outputs": [
        {
          "output_type": "execute_result",
          "data": {
            "text/plain": [
              "['uğur', 'ipekdüzen']"
            ]
          },
          "metadata": {},
          "execution_count": 122
        }
      ]
    },
    {
      "cell_type": "code",
      "source": [
        "string2 = \"uğur.ipekdüzen\""
      ],
      "metadata": {
        "id": "GIcSL_4lcxcb"
      },
      "execution_count": null,
      "outputs": []
    },
    {
      "cell_type": "code",
      "source": [
        "string2.split(sep=\".\")"
      ],
      "metadata": {
        "colab": {
          "base_uri": "https://localhost:8080/"
        },
        "id": "t-D6_WFzJqmB",
        "outputId": "7099c638-7ff3-426c-d2d6-8bf2a7328637"
      },
      "execution_count": null,
      "outputs": [
        {
          "output_type": "execute_result",
          "data": {
            "text/plain": [
              "['uğur', 'ipekdüzen']"
            ]
          },
          "metadata": {},
          "execution_count": 124
        }
      ]
    },
    {
      "cell_type": "code",
      "source": [
        "\" \".join([\"uğur\", \"ipekdüzen\"])"
      ],
      "metadata": {
        "colab": {
          "base_uri": "https://localhost:8080/",
          "height": 35
        },
        "id": "fJxX59GdJskY",
        "outputId": "0ba5dc3e-799e-4a1f-8a68-fd7737a04159"
      },
      "execution_count": null,
      "outputs": [
        {
          "output_type": "execute_result",
          "data": {
            "text/plain": [
              "'uğur ipekdüzen'"
            ],
            "application/vnd.google.colaboratory.intrinsic+json": {
              "type": "string"
            }
          },
          "metadata": {},
          "execution_count": 125
        }
      ]
    },
    {
      "cell_type": "code",
      "source": [
        "string3 = \"      uğur       \""
      ],
      "metadata": {
        "id": "HuBPp7uWen4C"
      },
      "execution_count": null,
      "outputs": []
    },
    {
      "cell_type": "code",
      "source": [
        "string3.strip()"
      ],
      "metadata": {
        "colab": {
          "base_uri": "https://localhost:8080/",
          "height": 35
        },
        "id": "oZOh2RthezHn",
        "outputId": "818f88c1-1e5d-46c8-f7b7-e41c57452ea6"
      },
      "execution_count": null,
      "outputs": [
        {
          "output_type": "execute_result",
          "data": {
            "text/plain": [
              "'uğur'"
            ],
            "application/vnd.google.colaboratory.intrinsic+json": {
              "type": "string"
            }
          },
          "metadata": {},
          "execution_count": 127
        }
      ]
    },
    {
      "cell_type": "code",
      "source": [
        "string4 = \"-------uğur-------\""
      ],
      "metadata": {
        "id": "NfqrwYThc8ez"
      },
      "execution_count": null,
      "outputs": []
    },
    {
      "cell_type": "code",
      "source": [
        "string4.strip('-')"
      ],
      "metadata": {
        "colab": {
          "base_uri": "https://localhost:8080/",
          "height": 35
        },
        "id": "L6IvxzLSdIp-",
        "outputId": "0c1ac5da-d4c3-4535-8611-e4bd71d4a841"
      },
      "execution_count": null,
      "outputs": [
        {
          "output_type": "execute_result",
          "data": {
            "text/plain": [
              "'uğur'"
            ],
            "application/vnd.google.colaboratory.intrinsic+json": {
              "type": "string"
            }
          },
          "metadata": {},
          "execution_count": 129
        }
      ]
    },
    {
      "cell_type": "code",
      "source": [
        "string5 = \"******uğur+++++++\""
      ],
      "metadata": {
        "id": "7nfLVmfjeAYF"
      },
      "execution_count": null,
      "outputs": []
    },
    {
      "cell_type": "code",
      "source": [
        "string5.lstrip('*')"
      ],
      "metadata": {
        "colab": {
          "base_uri": "https://localhost:8080/",
          "height": 35
        },
        "id": "mmv5TOEXeGzt",
        "outputId": "d0363c84-b549-4a9f-86a1-2634f81b79be"
      },
      "execution_count": null,
      "outputs": [
        {
          "output_type": "execute_result",
          "data": {
            "text/plain": [
              "'uğur+++++++'"
            ],
            "application/vnd.google.colaboratory.intrinsic+json": {
              "type": "string"
            }
          },
          "metadata": {},
          "execution_count": 131
        }
      ]
    },
    {
      "cell_type": "code",
      "source": [
        "string5.rstrip('+')"
      ],
      "metadata": {
        "colab": {
          "base_uri": "https://localhost:8080/",
          "height": 35
        },
        "id": "GRqlZu4PeMH3",
        "outputId": "9c2b2f29-1104-448c-a9af-8fba72caa295"
      },
      "execution_count": null,
      "outputs": [
        {
          "output_type": "execute_result",
          "data": {
            "text/plain": [
              "'******uğur'"
            ],
            "application/vnd.google.colaboratory.intrinsic+json": {
              "type": "string"
            }
          },
          "metadata": {},
          "execution_count": 132
        }
      ]
    },
    {
      "cell_type": "markdown",
      "source": [
        "### **Kullanıcıdan Girdi Alma**"
      ],
      "metadata": {
        "id": "iI1RY6pyUys8"
      }
    },
    {
      "cell_type": "markdown",
      "source": [
        "\n",
        "* `input()`: Kullanıcıdan programın çalıştığı sırada bir girdi almak için kullanılır. Bu fonksiyon, kullanıcıdan veri girmesini isteyen bir mesaj alabilir ve kullanıcının girdiği değeri alarak bir **string** olarak döndürür."
      ],
      "metadata": {
        "id": "H82BE6iLnXgl"
      }
    },
    {
      "cell_type": "code",
      "source": [
        "a = input('Bir değer giriniz:')\n",
        "print(a, type(a))"
      ],
      "metadata": {
        "id": "NrfxMVFz_SDs",
        "colab": {
          "base_uri": "https://localhost:8080/"
        },
        "outputId": "926dea6a-bbf8-4a77-ea92-f15a4eb3de96"
      },
      "execution_count": null,
      "outputs": [
        {
          "output_type": "stream",
          "name": "stdout",
          "text": [
            "Bir değer giriniz:5\n",
            "5 <class 'str'>\n"
          ]
        }
      ]
    },
    {
      "cell_type": "code",
      "source": [
        "cap = float(input(\" Dairenin çapını giriniz : \"))\n",
        "alan = 3.14 * ((cap / 2)**2)\n",
        "print(\"Dairenin alanı :\", alan)"
      ],
      "metadata": {
        "id": "4vzHefND_Teq",
        "colab": {
          "base_uri": "https://localhost:8080/"
        },
        "outputId": "49cb488b-ee38-44ae-b1b1-16dcc0e3e273"
      },
      "execution_count": null,
      "outputs": [
        {
          "output_type": "stream",
          "name": "stdout",
          "text": [
            " Dairenin çapını giriniz : 5\n",
            "Dairenin alanı : 19.625\n"
          ]
        }
      ]
    },
    {
      "cell_type": "markdown",
      "source": [
        "#### Örnek: İkinci dereceden bir denklemin köklerini bulma (ax^2 + bx + c = 0)"
      ],
      "metadata": {
        "id": "LYy8VDKhn039"
      }
    },
    {
      "cell_type": "code",
      "source": [
        "a, b, c = int(input(\"a:\")), int(input(\"b:\")), int(input(\"c:\"))\n",
        "delta = b**2 - 4*a*c\n",
        "x1 = (-b - delta**0.5) / (2*a)\n",
        "x2 = (-b + delta**0.5) / (2*a)\n",
        "\n",
        "print(\"Birinci Kök: {} ikinci kök : {}\".format(x1, x2))"
      ],
      "metadata": {
        "id": "Gou7ksWJKOfU",
        "colab": {
          "base_uri": "https://localhost:8080/"
        },
        "outputId": "c3623633-f60c-45ae-f2dd-a20e4fced297"
      },
      "execution_count": null,
      "outputs": [
        {
          "output_type": "stream",
          "name": "stdout",
          "text": [
            "a:4\n",
            "b:5\n",
            "c:6\n",
            "Birinci Kök: (-0.6250000000000001-1.0532687216470449j) ikinci kök : (-0.6249999999999999+1.0532687216470449j)\n"
          ]
        }
      ]
    },
    {
      "cell_type": "markdown",
      "source": [
        "## **2. Koşul Yapıları**\n",
        "Koşul yapıları, bir programın belirli bir durumda farklı davranmasını sağlayan yapısal öğelerdir. Programlar çeşitli durumları değerlendirip, bu durumlara göre farklı yollar izleyebilir. Koşul yapıları, genellikle belirli bir koşulun doğru veya yanlış olmasına göre farklı kod bloklarını çalıştırmak için kullanılır."
      ],
      "metadata": {
        "id": "gnfvPOlJY3JV"
      }
    },
    {
      "cell_type": "markdown",
      "source": [
        "### **If Statement**"
      ],
      "metadata": {
        "id": "08Q5RmguN-7q"
      }
    },
    {
      "cell_type": "code",
      "source": [
        "sayi = int(input(\"Bir sayı girin: \"))\n",
        "\n",
        "if sayi > 0:\n",
        "    print(\"Girdiğiniz sayı pozitif.\")\n",
        "if sayi < 0:\n",
        "    print(\"Girdiğiniz sayı negatif.\")\n",
        "if sayi == 0:\n",
        "    print(\"Girdiğiniz sayı sıfır.\")"
      ],
      "metadata": {
        "id": "1C0d-AymN7bb",
        "colab": {
          "base_uri": "https://localhost:8080/"
        },
        "outputId": "2aa4777c-56e9-4782-d0a3-725282e35a62"
      },
      "execution_count": null,
      "outputs": [
        {
          "output_type": "stream",
          "name": "stdout",
          "text": [
            "Bir sayı girin: 3\n",
            "Girdiğiniz sayı pozitif.\n"
          ]
        }
      ]
    },
    {
      "cell_type": "markdown",
      "source": [
        "### **Else Statement**"
      ],
      "metadata": {
        "id": "AOZHKKiiOTMz"
      }
    },
    {
      "cell_type": "code",
      "source": [
        "a = 5\n",
        "b = 3\n",
        "\n",
        "if a > b :\n",
        "    print('a büyüktür')\n",
        "else :\n",
        "    print('a b den büyük değildir')"
      ],
      "metadata": {
        "id": "Nufj5oI4Nnf5",
        "colab": {
          "base_uri": "https://localhost:8080/"
        },
        "outputId": "2090434e-a94c-4047-e350-f7de901269c2"
      },
      "execution_count": null,
      "outputs": [
        {
          "output_type": "stream",
          "name": "stdout",
          "text": [
            "a büyüktür\n"
          ]
        }
      ]
    },
    {
      "cell_type": "markdown",
      "source": [
        "#### Örnek 1: Yemek Siparişi"
      ],
      "metadata": {
        "id": "sSM-HK-UG4bP"
      }
    },
    {
      "cell_type": "code",
      "source": [
        "menude_var = True\n",
        "fiyat_uygun = True\n",
        "\n",
        "if menude_var and fiyat_uygun:\n",
        "    print(\"Yemek siparişi verebilirsiniz.\")\n",
        "else:\n",
        "    print(\"Üzgünüz, yemek siparişi verilemiyor.\")"
      ],
      "metadata": {
        "colab": {
          "base_uri": "https://localhost:8080/"
        },
        "id": "113oSSfNHoBI",
        "outputId": "f3d4b548-eab7-456a-86c5-c7964da836b8"
      },
      "execution_count": null,
      "outputs": [
        {
          "output_type": "stream",
          "name": "stdout",
          "text": [
            "Yemek siparişi verebilirsiniz.\n"
          ]
        }
      ]
    },
    {
      "cell_type": "markdown",
      "source": [
        "#### Örnek 2: Etkinliğe Katılım Şartları"
      ],
      "metadata": {
        "id": "rw9Zv3eMHMFk"
      }
    },
    {
      "cell_type": "code",
      "source": [
        "yas = 20\n",
        "ebeveyn_izni_var = True\n",
        "\n",
        "if yas >= 18 or ebeveyn_izni_var:\n",
        "    print(\"Etkinliğe katılabilirsiniz.\")\n",
        "else:\n",
        "    print(\"Üzgünüz, etkinliğe katılamazsınız.\")"
      ],
      "metadata": {
        "colab": {
          "base_uri": "https://localhost:8080/"
        },
        "id": "f7aTES1QVaKW",
        "outputId": "6acc7712-1934-49a9-a843-a66d234d7930"
      },
      "execution_count": null,
      "outputs": [
        {
          "output_type": "stream",
          "name": "stdout",
          "text": [
            "Etkinliğe katılabilirsiniz.\n"
          ]
        }
      ]
    },
    {
      "cell_type": "markdown",
      "source": [
        "### **Elif Statement**"
      ],
      "metadata": {
        "id": "16zuux_POY6I"
      }
    },
    {
      "cell_type": "code",
      "source": [
        "durum = input(\"Hava durumu nasıl? (yağmurlu/güneşli/sisli): \")\n",
        "\n",
        "if durum == \"yağmurlu\":\n",
        "    print(\"Şemsiye almalısınız, yağmurlu bir gün.\")\n",
        "elif durum == \"güneşli\":\n",
        "    print(\"Güneş kremi sürmeyi unutmayın, hava güneşli.\")\n",
        "elif durum == \"sisli\":\n",
        "    print(\"Dikkatli sürün, sisli bir hava var.\")\n",
        "else:\n",
        "    print(\"Hava durumu bilinmiyor.\")"
      ],
      "metadata": {
        "colab": {
          "base_uri": "https://localhost:8080/"
        },
        "id": "01UL9mNlWWdz",
        "outputId": "59bb55f8-94c7-4d47-ed89-bb88c67b5886"
      },
      "execution_count": null,
      "outputs": [
        {
          "output_type": "stream",
          "name": "stdout",
          "text": [
            "Hava durumu nasıl? (yağmurlu/güneşli/sisli): yağmurlu\n",
            "Şemsiye almalısınız, yağmurlu bir gün.\n"
          ]
        }
      ]
    },
    {
      "cell_type": "markdown",
      "source": [
        "#### **Nested If-Else Statement**"
      ],
      "metadata": {
        "id": "gkXnYJ630mzP"
      }
    },
    {
      "cell_type": "code",
      "source": [
        "haftasonu_mu = False\n",
        "gunesli_mi = True\n",
        "plaj_acik_mi = True\n",
        "\n",
        "if haftasonu_mu:\n",
        "    if gunesli_mi and plaj_acik_mi:\n",
        "        print(\"Hadi plaja gidelim!\")\n",
        "    else:\n",
        "        print(\"Belki başka bir etkinlik yapabiliriz.\")\n",
        "else:\n",
        "    print(\"Bugün iş günü, dinlenme zamanı değil.\")"
      ],
      "metadata": {
        "id": "cxYi1mBUPNNh",
        "colab": {
          "base_uri": "https://localhost:8080/"
        },
        "outputId": "4299a73f-095d-468d-da42-501160aadfbd"
      },
      "execution_count": null,
      "outputs": [
        {
          "output_type": "stream",
          "name": "stdout",
          "text": [
            "Bugün iş günü, dinlenme zamanı değil.\n"
          ]
        }
      ]
    },
    {
      "cell_type": "markdown",
      "source": [
        "## **3. Döngüler**"
      ],
      "metadata": {
        "id": "sI5-A-ZCZDT_"
      }
    },
    {
      "cell_type": "markdown",
      "source": [
        "### **For Döngüsü**\n",
        "Python dilindeki for döngüsü mantığı şu şekilde çalışır iterable özelliği olan bir veri yapısının içindeki elemanlarını değişkene atarak iterasyon gerçekleştirir."
      ],
      "metadata": {
        "id": "t_kjGumfZPrE"
      }
    },
    {
      "cell_type": "code",
      "source": [
        "isimler = [\"Ali\", \"Ayşe\", \"Mehmet\", \"Fatma\", \"Volkan\"]"
      ],
      "metadata": {
        "id": "sUlwshV2oNw1"
      },
      "execution_count": null,
      "outputs": []
    },
    {
      "cell_type": "code",
      "source": [
        "for isim in isimler:\n",
        "  print(isim)"
      ],
      "metadata": {
        "colab": {
          "base_uri": "https://localhost:8080/"
        },
        "id": "Krqv0wO9q_Yw",
        "outputId": "52c89f9b-2a0d-4025-e4d9-09ff22bdd4cd"
      },
      "execution_count": null,
      "outputs": [
        {
          "output_type": "stream",
          "name": "stdout",
          "text": [
            "Ali\n",
            "Ayşe\n",
            "Mehmet\n",
            "Fatma\n",
            "Volkan\n"
          ]
        }
      ]
    },
    {
      "cell_type": "markdown",
      "source": [
        "**Range:**"
      ],
      "metadata": {
        "id": "B-OIIkpX5V4j"
      }
    },
    {
      "cell_type": "code",
      "source": [
        "range(0,10)"
      ],
      "metadata": {
        "id": "xKlmU3WM5Za4"
      },
      "execution_count": null,
      "outputs": []
    },
    {
      "cell_type": "code",
      "source": [
        "range(2, 7, 2)"
      ],
      "metadata": {
        "id": "xRVbCFyrEesv"
      },
      "execution_count": null,
      "outputs": []
    },
    {
      "cell_type": "code",
      "source": [
        "isimler = [\"Ali\", \"Ayşe\", \"Mehmet\", \"Fatma\", \"Volkan\"]"
      ],
      "metadata": {
        "id": "1PvPF3DjElZ0"
      },
      "execution_count": null,
      "outputs": []
    },
    {
      "cell_type": "code",
      "source": [
        "for i in range(len(isimler)):\n",
        "  print(isimler[i])"
      ],
      "metadata": {
        "colab": {
          "base_uri": "https://localhost:8080/"
        },
        "id": "PBPnVgS9Lmf8",
        "outputId": "4464500a-8b57-40f9-b2aa-c19177fbc1d2"
      },
      "execution_count": null,
      "outputs": [
        {
          "output_type": "stream",
          "name": "stdout",
          "text": [
            "Ali\n",
            "Ayşe\n",
            "Mehmet\n",
            "Fatma\n",
            "Volkan\n"
          ]
        }
      ]
    },
    {
      "cell_type": "markdown",
      "source": [
        "**Enumarate:** Bir iterable (örneğin liste, tuple, string vb.) üzerinde döngü yaparken, her bir öğenin indeksini ve değerini birlikte sağlayan bir Python fonksiyonudur."
      ],
      "metadata": {
        "id": "_PKSTPbO5aZ2"
      }
    },
    {
      "cell_type": "code",
      "source": [
        "cities = ['İstanbul', 'Ankara', 'İzmir', 'Bursa']\n",
        "\n",
        "for city in enumerate(cities):\n",
        "    print(city)"
      ],
      "metadata": {
        "colab": {
          "base_uri": "https://localhost:8080/"
        },
        "id": "WsRrk6S95hKu",
        "outputId": "18db2358-d631-4ac8-abbd-3333a04fc3d8"
      },
      "execution_count": null,
      "outputs": [
        {
          "output_type": "stream",
          "name": "stdout",
          "text": [
            "(0, 'İstanbul')\n",
            "(1, 'Ankara')\n",
            "(2, 'İzmir')\n",
            "(3, 'Bursa')\n"
          ]
        }
      ]
    },
    {
      "cell_type": "code",
      "source": [
        "for index, city in enumerate(cities):\n",
        "    print(f\"Index: {index}, City: {city}\")"
      ],
      "metadata": {
        "colab": {
          "base_uri": "https://localhost:8080/"
        },
        "id": "S0_HSIztGBPt",
        "outputId": "219368fa-56f9-4f2f-9e52-d2cdf49add18"
      },
      "execution_count": null,
      "outputs": [
        {
          "output_type": "stream",
          "name": "stdout",
          "text": [
            "Index: 0, City: İstanbul\n",
            "Index: 1, City: Ankara\n",
            "Index: 2, City: İzmir\n",
            "Index: 3, City: Bursa\n"
          ]
        }
      ]
    },
    {
      "cell_type": "markdown",
      "source": [
        "**Zip:** Bir veya daha fazla iterable'ı (list, tuple vb.) elemanlarını birleştirmek için kullanılır."
      ],
      "metadata": {
        "id": "hJCbc1nv5CzC"
      }
    },
    {
      "cell_type": "code",
      "source": [
        "isimler = ['Uğur', 'Ahmet', 'Onur', 'Emincan']\n",
        "yaslar = [26, 23, 30, 27]\n",
        "\n",
        "for hoca in zip(isimler, yaslar):\n",
        "    print(hoca)"
      ],
      "metadata": {
        "id": "Ac7ZcANc4uFT",
        "colab": {
          "base_uri": "https://localhost:8080/"
        },
        "outputId": "8cb8e66e-d7b9-45c2-9ee1-e6d7c444ae1c"
      },
      "execution_count": null,
      "outputs": [
        {
          "output_type": "stream",
          "name": "stdout",
          "text": [
            "('Uğur', 26)\n",
            "('Ahmet', 23)\n",
            "('Onur', 30)\n",
            "('Emincan', 27)\n"
          ]
        }
      ]
    },
    {
      "cell_type": "code",
      "source": [
        "for isim, yas in zip(isimler, yaslar):\n",
        "    print(f\"{isim} {yas} yaşındadır.\")"
      ],
      "metadata": {
        "id": "QgdBQRf-40tn",
        "colab": {
          "base_uri": "https://localhost:8080/"
        },
        "outputId": "15049a27-0cbc-4332-b0af-d289ee6814cd"
      },
      "execution_count": null,
      "outputs": [
        {
          "output_type": "stream",
          "name": "stdout",
          "text": [
            "Uğur 26 yaşındadır.\n",
            "Ahmet 23 yaşındadır.\n",
            "Onur 30 yaşındadır.\n",
            "Emincan 27 yaşındadır.\n"
          ]
        }
      ]
    },
    {
      "cell_type": "markdown",
      "source": [
        "### **While Döngüsü**\n",
        "\n",
        "While döngüsü, belirli bir koşul doğru olduğu sürece tekrarlanan bir döngü türüdür. Döngü, koşul doğru olduğu sürece çalışmaya devam eder. Koşul yanlış olduğunda döngü sona erer ve program döngüden sonraki satıra geçer"
      ],
      "metadata": {
        "id": "uwA6rArOZU7p"
      }
    },
    {
      "cell_type": "code",
      "source": [
        "# while döngüsüyle 1'den 5'e kadar olan sayıları yazdırma\n",
        "sayi = 1\n",
        "while sayi <= 5:\n",
        "    print(sayi)\n",
        "    sayi += 1  # Her adımda sayıyı bir arttır"
      ],
      "metadata": {
        "id": "ZkzRlG8QSl22",
        "colab": {
          "base_uri": "https://localhost:8080/"
        },
        "outputId": "fddce766-0862-44d4-d305-84dfa7cb1f86"
      },
      "execution_count": null,
      "outputs": [
        {
          "output_type": "stream",
          "name": "stdout",
          "text": [
            "1\n",
            "2\n",
            "3\n",
            "4\n",
            "5\n"
          ]
        }
      ]
    },
    {
      "cell_type": "markdown",
      "source": [
        "### **Break-Continue-Pass**\n",
        "\n"
      ],
      "metadata": {
        "id": "GvCT3KNvu4Vd"
      }
    },
    {
      "cell_type": "markdown",
      "source": [
        "`break`: Döngüyü hemen sonlandırır ve döngüden çıkar."
      ],
      "metadata": {
        "id": "ae6bTVrkemn4"
      }
    },
    {
      "cell_type": "code",
      "source": [
        "for harf in 'Python':\n",
        "   if harf == 'h':\n",
        "      break\n",
        "   print('Şuanki harf: ', harf)"
      ],
      "metadata": {
        "id": "UJ76qPRiPnAT",
        "colab": {
          "base_uri": "https://localhost:8080/"
        },
        "outputId": "f1341d3a-5cef-401f-98a2-cba1e2eae03e"
      },
      "execution_count": null,
      "outputs": [
        {
          "output_type": "stream",
          "name": "stdout",
          "text": [
            "Şuanki harf:  P\n",
            "Şuanki harf:  y\n",
            "Şuanki harf:  t\n"
          ]
        }
      ]
    },
    {
      "cell_type": "code",
      "source": [
        "var = 10\n",
        "while var > 0:\n",
        "   print('Şuanki değişken değeri:', var)\n",
        "   var = var - 1\n",
        "   if var == 5:\n",
        "      break\n",
        "\n",
        "print (\"Döngü sonu\")"
      ],
      "metadata": {
        "id": "vqTW5bC_TMP6",
        "colab": {
          "base_uri": "https://localhost:8080/"
        },
        "outputId": "a283c4de-948d-418e-8849-9c95567c04a7"
      },
      "execution_count": null,
      "outputs": [
        {
          "output_type": "stream",
          "name": "stdout",
          "text": [
            "Şuanki değişken değeri: 10\n",
            "Şuanki değişken değeri: 9\n",
            "Şuanki değişken değeri: 8\n",
            "Şuanki değişken değeri: 7\n",
            "Şuanki değişken değeri: 6\n",
            "Döngü sonu\n"
          ]
        }
      ]
    },
    {
      "cell_type": "markdown",
      "source": [
        "`continue`: Döngünün geri kalanını atlayarak döngüye bir sonraki adımdan devam ettirir."
      ],
      "metadata": {
        "id": "9Q6QUJWTeqqt"
      }
    },
    {
      "cell_type": "code",
      "source": [
        "num = 60\n",
        "print(f\"{num}'un Asal bölenleri: \")\n",
        "d = 2\n",
        "while num > 1:\n",
        "   if num % d == 0:\n",
        "      print(d)\n",
        "      num = num / d\n",
        "      continue\n",
        "   d = d + 1"
      ],
      "metadata": {
        "id": "dr7NeMrieDpP",
        "colab": {
          "base_uri": "https://localhost:8080/"
        },
        "outputId": "040e0a4e-4e29-4fee-a87c-0af11f43f5ee"
      },
      "execution_count": null,
      "outputs": [
        {
          "output_type": "stream",
          "name": "stdout",
          "text": [
            "60'un Asal bölenleri: \n",
            "2\n",
            "2\n",
            "3\n",
            "5\n"
          ]
        }
      ]
    },
    {
      "cell_type": "markdown",
      "source": [
        "`pass`: Herhangi bir işlem yapmadan, sadece geçişi sağlar ve bir bloğun minimum gereksinimlerini karşılar."
      ],
      "metadata": {
        "id": "QD5zyp5tesWS"
      }
    },
    {
      "cell_type": "code",
      "source": [
        "for letter in 'Python':\n",
        "   if letter == 'h':\n",
        "      pass\n",
        "      print('Burası pass bloğudur.')\n",
        "   print('Şuanki harf:', letter)\n",
        "print(\"Görüşmek üzere!\")"
      ],
      "metadata": {
        "id": "u3-myZX6er1N",
        "colab": {
          "base_uri": "https://localhost:8080/"
        },
        "outputId": "d3801232-125f-4bb5-9bd7-dbe48e037b34"
      },
      "execution_count": null,
      "outputs": [
        {
          "output_type": "stream",
          "name": "stdout",
          "text": [
            "Şuanki harf: P\n",
            "Şuanki harf: y\n",
            "Şuanki harf: t\n",
            "Burası pass bloğudur.\n",
            "Şuanki harf: h\n",
            "Şuanki harf: o\n",
            "Şuanki harf: n\n",
            "Görüşmek üzere!\n"
          ]
        }
      ]
    },
    {
      "cell_type": "markdown",
      "source": [
        "## **4. Çoklu Veri Tipleri**"
      ],
      "metadata": {
        "id": "4VXH51MOje0x"
      }
    },
    {
      "cell_type": "markdown",
      "source": [
        "### **List**\n",
        "* Listeler içerikleri değiştirilebilir; elemanlar eklenebilir, çıkarılabilir veya değiştirilebilir.\n",
        "* Elemanları sıralı bir şekilde tutar ve indislenmiş bir yapıya sahiptir.\n",
        "* Farklı veri tiplerini içerebilir. Yani, string, integer, float gibi farklı tiplerde verileri bir arada tutabilir.\n",
        "* `[]` içinde elemanlar virgülle ayrılarak tanımlanır. Örnek:\n",
        "  * my_list = [1, 2, \"üç\"].\n",
        "* Bir listede başka bir liste bulunabilir\n",
        "* Indis kullanarak hızlı erişim sağlar."
      ],
      "metadata": {
        "id": "kwySWyV8bi9Q"
      }
    },
    {
      "cell_type": "code",
      "source": [
        "# Liste oluşturma\n",
        "liste = [1, 2, 3, 4, 5]"
      ],
      "metadata": {
        "id": "UcZnWxdl77UZ"
      },
      "execution_count": null,
      "outputs": []
    },
    {
      "cell_type": "code",
      "source": [
        "# Listenin uzunluğunu alma\n",
        "len(liste)"
      ],
      "metadata": {
        "colab": {
          "base_uri": "https://localhost:8080/"
        },
        "id": "1lile02zQU0X",
        "outputId": "c9919cc7-3dc3-44e9-ac70-c06c33259b32"
      },
      "execution_count": null,
      "outputs": [
        {
          "output_type": "execute_result",
          "data": {
            "text/plain": [
              "5"
            ]
          },
          "metadata": {},
          "execution_count": 156
        }
      ]
    },
    {
      "cell_type": "code",
      "source": [
        "# Liste elemanlarına erişim\n",
        "liste[0]"
      ],
      "metadata": {
        "colab": {
          "base_uri": "https://localhost:8080/"
        },
        "id": "LKZXrmAuQbIw",
        "outputId": "a32b2ac6-15be-4f00-dfb8-a72ddb7176ae"
      },
      "execution_count": null,
      "outputs": [
        {
          "output_type": "execute_result",
          "data": {
            "text/plain": [
              "1"
            ]
          },
          "metadata": {},
          "execution_count": 157
        }
      ]
    },
    {
      "cell_type": "code",
      "source": [
        "liste[-1]"
      ],
      "metadata": {
        "colab": {
          "base_uri": "https://localhost:8080/"
        },
        "id": "dZsV8JwaQd4L",
        "outputId": "1f876edf-35b1-45a8-8e8d-7b62ef9db57c"
      },
      "execution_count": null,
      "outputs": [
        {
          "output_type": "execute_result",
          "data": {
            "text/plain": [
              "5"
            ]
          },
          "metadata": {},
          "execution_count": 158
        }
      ]
    },
    {
      "cell_type": "code",
      "source": [
        "liste[2:4]"
      ],
      "metadata": {
        "colab": {
          "base_uri": "https://localhost:8080/"
        },
        "id": "zuiDNOEmQfpS",
        "outputId": "72204dff-d464-4994-cde0-fec967594fdb"
      },
      "execution_count": null,
      "outputs": [
        {
          "output_type": "execute_result",
          "data": {
            "text/plain": [
              "[3, 4]"
            ]
          },
          "metadata": {},
          "execution_count": 159
        }
      ]
    },
    {
      "cell_type": "code",
      "source": [
        "liste = [\"elma\", \"armut\", \"kiraz\"]\n",
        "\n",
        "# For döngüsüyle liste elemanlarını yazdırma\n",
        "for meyve in liste:\n",
        "    print(meyve)"
      ],
      "metadata": {
        "colab": {
          "base_uri": "https://localhost:8080/"
        },
        "id": "Nm2TqtQ0Sf4Q",
        "outputId": "dc59c698-3b48-4037-b28b-cc2ec14c6ed8"
      },
      "execution_count": null,
      "outputs": [
        {
          "output_type": "stream",
          "name": "stdout",
          "text": [
            "elma\n",
            "armut\n",
            "kiraz\n"
          ]
        }
      ]
    },
    {
      "cell_type": "markdown",
      "source": [
        "**Not:** Range veri tipindeki bir nesneyi list'ye çevirebiliriz."
      ],
      "metadata": {
        "id": "C3L_29KbRdW5"
      }
    },
    {
      "cell_type": "code",
      "source": [
        "list(range(0,10))"
      ],
      "metadata": {
        "id": "YUtYmgLSReP_",
        "colab": {
          "base_uri": "https://localhost:8080/"
        },
        "outputId": "3eb1d477-d80d-4efd-c1d0-3b5716fd2622"
      },
      "execution_count": null,
      "outputs": [
        {
          "output_type": "execute_result",
          "data": {
            "text/plain": [
              "[0, 1, 2, 3, 4, 5, 6, 7, 8, 9]"
            ]
          },
          "metadata": {},
          "execution_count": 161
        }
      ]
    },
    {
      "cell_type": "markdown",
      "source": [
        "#### **List Fonksiyonları**\n",
        "* `append()`: Bir liste sonuna yeni bir öğe ekler.\n",
        "* `remove()`: Belirtilen bir öğeyi listeden kaldırır.\n",
        "* `pop()`: Belirtilen indexteki öğeyi kaldırır ve bu öğeyi döndürür.\n",
        "* `extend()`: Listenin sonuna başka bir listenin öğelerini ekler.\n",
        "* `insert()`: Belirtilen indexte yeni bir öğe ekler.\n",
        "* `sort()`: Listeyi sıralar.\n",
        "* `reverse()`: Listenin öğelerini ters çevirir."
      ],
      "metadata": {
        "id": "Bc655bRCQjiZ"
      }
    },
    {
      "cell_type": "code",
      "source": [
        "liste = [1, 2, 3, 4, 5]"
      ],
      "metadata": {
        "id": "ilMDyPTt7-ag"
      },
      "execution_count": null,
      "outputs": []
    },
    {
      "cell_type": "code",
      "source": [
        "liste.append(6)\n",
        "liste"
      ],
      "metadata": {
        "colab": {
          "base_uri": "https://localhost:8080/"
        },
        "id": "x5dqaAzRRujY",
        "outputId": "34786a37-6e65-433d-c54b-4aa4046e6d05"
      },
      "execution_count": null,
      "outputs": [
        {
          "output_type": "execute_result",
          "data": {
            "text/plain": [
              "[1, 2, 3, 4, 5, 6]"
            ]
          },
          "metadata": {},
          "execution_count": 163
        }
      ]
    },
    {
      "cell_type": "code",
      "source": [
        "liste.insert(2, 8)\n",
        "liste"
      ],
      "metadata": {
        "colab": {
          "base_uri": "https://localhost:8080/"
        },
        "id": "IsXjDz9TRwpg",
        "outputId": "73c22556-49b2-4770-f355-3318277e8fe8"
      },
      "execution_count": null,
      "outputs": [
        {
          "output_type": "execute_result",
          "data": {
            "text/plain": [
              "[1, 2, 8, 3, 4, 5, 6]"
            ]
          },
          "metadata": {},
          "execution_count": 164
        }
      ]
    },
    {
      "cell_type": "code",
      "source": [
        "liste.remove(3)\n",
        "liste"
      ],
      "metadata": {
        "colab": {
          "base_uri": "https://localhost:8080/"
        },
        "id": "-DzRkG4_RzSQ",
        "outputId": "15f1a1a7-de20-47b2-e071-7c922b56f7a7"
      },
      "execution_count": null,
      "outputs": [
        {
          "output_type": "execute_result",
          "data": {
            "text/plain": [
              "[1, 2, 8, 4, 5, 6]"
            ]
          },
          "metadata": {},
          "execution_count": 165
        }
      ]
    },
    {
      "cell_type": "code",
      "source": [
        "liste.pop(1)"
      ],
      "metadata": {
        "colab": {
          "base_uri": "https://localhost:8080/"
        },
        "id": "ni_wv-hvR6o-",
        "outputId": "f8a3317d-be48-4c1b-eefb-e12fc7e8880c"
      },
      "execution_count": null,
      "outputs": [
        {
          "output_type": "execute_result",
          "data": {
            "text/plain": [
              "2"
            ]
          },
          "metadata": {},
          "execution_count": 166
        }
      ]
    },
    {
      "cell_type": "code",
      "source": [
        "liste2 = [11, 23, 45]\n",
        "liste.extend(liste2)"
      ],
      "metadata": {
        "id": "obM0b6d8SHgT"
      },
      "execution_count": null,
      "outputs": []
    },
    {
      "cell_type": "code",
      "source": [
        "liste = [5, 2, 8, 1, 3]"
      ],
      "metadata": {
        "id": "h03DV8IbSSib"
      },
      "execution_count": null,
      "outputs": []
    },
    {
      "cell_type": "code",
      "source": [
        "liste.sort()\n",
        "liste"
      ],
      "metadata": {
        "colab": {
          "base_uri": "https://localhost:8080/"
        },
        "id": "JnNxZsVbSTwE",
        "outputId": "9c271b6c-69d6-4256-f63f-740511a46643"
      },
      "execution_count": null,
      "outputs": [
        {
          "output_type": "execute_result",
          "data": {
            "text/plain": [
              "[1, 2, 3, 5, 8]"
            ]
          },
          "metadata": {},
          "execution_count": 169
        }
      ]
    },
    {
      "cell_type": "code",
      "source": [
        "liste.reverse()\n",
        "liste"
      ],
      "metadata": {
        "id": "DTjhOaBo8F0N",
        "colab": {
          "base_uri": "https://localhost:8080/"
        },
        "outputId": "8d52bc46-d4b1-4bd1-c1b1-f42f24bd1871"
      },
      "execution_count": null,
      "outputs": [
        {
          "output_type": "execute_result",
          "data": {
            "text/plain": [
              "[8, 5, 3, 2, 1]"
            ]
          },
          "metadata": {},
          "execution_count": 170
        }
      ]
    },
    {
      "cell_type": "markdown",
      "source": [
        "#### **List Comprehension (Liste Algılama)**"
      ],
      "metadata": {
        "id": "y_CicvJmYCF_"
      }
    },
    {
      "cell_type": "markdown",
      "source": [
        " Geleneksel Bir Döngüsüyle Sessiz Harfleri Çıkarma"
      ],
      "metadata": {
        "id": "M_2pfvgwviXk"
      }
    },
    {
      "cell_type": "code",
      "source": [
        "chars=[]\n",
        "for ch in 'Python Programalama Dili':\n",
        "   if ch not in 'aeiou':\n",
        "      chars.append(ch)\n",
        "print (chars)"
      ],
      "metadata": {
        "id": "p8pPnC_nvgoz",
        "colab": {
          "base_uri": "https://localhost:8080/"
        },
        "outputId": "28932301-dfff-455e-860e-07a29d068d9c"
      },
      "execution_count": null,
      "outputs": [
        {
          "output_type": "stream",
          "name": "stdout",
          "text": [
            "['P', 'y', 't', 'h', 'n', ' ', 'P', 'r', 'g', 'r', 'm', 'l', 'm', ' ', 'D', 'l']\n"
          ]
        }
      ]
    },
    {
      "cell_type": "markdown",
      "source": [
        "List Comprehension ile Sessiz Harfleri Çıkarma"
      ],
      "metadata": {
        "id": "B_oS3P6Vx6j1"
      }
    },
    {
      "cell_type": "code",
      "source": [
        "# List Comprehension ile aynı işlemi yapma\n",
        "chars = [ch for ch in 'Python Programalama Dili' if ch not in 'aeiou']\n",
        "print(chars)"
      ],
      "metadata": {
        "colab": {
          "base_uri": "https://localhost:8080/"
        },
        "id": "Mo-QtQI-xFAz",
        "outputId": "9a728718-fccc-434c-f6c9-d2bb8addf3af"
      },
      "execution_count": null,
      "outputs": [
        {
          "output_type": "stream",
          "name": "stdout",
          "text": [
            "['P', 'y', 't', 'h', 'n', ' ', 'P', 'r', 'g', 'r', 'm', 'l', 'm', ' ', 'D', 'l']\n"
          ]
        }
      ]
    },
    {
      "cell_type": "code",
      "source": [
        "# Liste comprehension ile bir liste oluşturma\n",
        "kareler = [x**2 for x in range(1, 6)]\n",
        "print(kareler)"
      ],
      "metadata": {
        "id": "BnPgqaRnuYqB",
        "colab": {
          "base_uri": "https://localhost:8080/"
        },
        "outputId": "0f4c6a95-6561-4691-8d38-f8c3d4a6ad46"
      },
      "execution_count": null,
      "outputs": [
        {
          "output_type": "stream",
          "name": "stdout",
          "text": [
            "[1, 4, 9, 16, 25]\n"
          ]
        }
      ]
    },
    {
      "cell_type": "code",
      "source": [
        "# Liste comprehension ile filtrelenebilir bir liste oluşturma\n",
        "sayilar = [x for x in range(1, 11) if x % 2 == 0]\n",
        "print(sayilar)"
      ],
      "metadata": {
        "id": "ABGt7oK0uYiN",
        "colab": {
          "base_uri": "https://localhost:8080/"
        },
        "outputId": "db3a574e-605e-44ca-8c52-d33aba6d81f9"
      },
      "execution_count": null,
      "outputs": [
        {
          "output_type": "stream",
          "name": "stdout",
          "text": [
            "[2, 4, 6, 8, 10]\n"
          ]
        }
      ]
    },
    {
      "cell_type": "markdown",
      "source": [
        "#### Örnek: Market alışverişi"
      ],
      "metadata": {
        "id": "jht_Y4OouRqo"
      }
    },
    {
      "cell_type": "code",
      "source": [
        "urunler = ['Elma', 'Muz', 'Üzüm', 'Portakal', 'Havuç', 'Salatalık']\n",
        "\n",
        "# Sadece meyve kategorisindeki ürünleri seçme\n",
        "meyveler = [urun for urun in urunler if urun not in ['Havuç', 'Salatalık']]\n",
        "\n",
        "print(meyveler)"
      ],
      "metadata": {
        "id": "sO8BIL34rFXn",
        "colab": {
          "base_uri": "https://localhost:8080/"
        },
        "outputId": "83e6bb2f-2f37-45c6-d9a1-17ad1ee031f2"
      },
      "execution_count": null,
      "outputs": [
        {
          "output_type": "stream",
          "name": "stdout",
          "text": [
            "['Elma', 'Muz', 'Üzüm', 'Portakal']\n"
          ]
        }
      ]
    },
    {
      "cell_type": "markdown",
      "source": [
        "### **Tuple**\n",
        "* Bir kez oluşturulduktan sonra içeriği değiştirilemez.\n",
        "* Elemanları sıralı bir şekilde tutar ve indislenmiş bir yapıya sahiptir.\n",
        "* Farklı veri tiplerini içerebilir. Yani, string, integer, float gibi farklı tiplerde verileri bir arada tutabilir.\n",
        "* Parantez içinde elemanlar virgülle ayrılarak tanımlanır.\n",
        "  * Ör: my_tuple = (1, 2, \"üç\").\n",
        "* Elemanları değiştirmek, eklemek veya çıkarmak mümkün değildir; ancak tuple'ın kendisi silinebilir.\n",
        "* Indis kullanarak hızlı erişim sağlar."
      ],
      "metadata": {
        "id": "3pJG4j7HjwRW"
      }
    },
    {
      "cell_type": "code",
      "source": [
        "# Tuple oluşturma\n",
        "demet = (1, 2, 3, 4, 5)"
      ],
      "metadata": {
        "id": "CgYss9eyfQ2J"
      },
      "execution_count": null,
      "outputs": []
    },
    {
      "cell_type": "code",
      "source": [
        "demet[0]"
      ],
      "metadata": {
        "id": "1y4bJX3dbnrd",
        "colab": {
          "base_uri": "https://localhost:8080/"
        },
        "outputId": "f3957f21-8e04-4f7f-c1c9-f8b2ee8806e3"
      },
      "execution_count": null,
      "outputs": [
        {
          "output_type": "execute_result",
          "data": {
            "text/plain": [
              "1"
            ]
          },
          "metadata": {},
          "execution_count": 177
        }
      ]
    },
    {
      "cell_type": "code",
      "source": [
        "demet[-1]"
      ],
      "metadata": {
        "id": "G80TIAeCbsAZ",
        "colab": {
          "base_uri": "https://localhost:8080/"
        },
        "outputId": "f6e5c652-9db9-4a7e-f30f-e6a47a691fec"
      },
      "execution_count": null,
      "outputs": [
        {
          "output_type": "execute_result",
          "data": {
            "text/plain": [
              "5"
            ]
          },
          "metadata": {},
          "execution_count": 178
        }
      ]
    },
    {
      "cell_type": "code",
      "source": [
        "demet[2:4]"
      ],
      "metadata": {
        "id": "Ay6OGQ69btrC",
        "colab": {
          "base_uri": "https://localhost:8080/"
        },
        "outputId": "f649da2f-3af0-4682-ed2d-21a1163fa3b5"
      },
      "execution_count": null,
      "outputs": [
        {
          "output_type": "execute_result",
          "data": {
            "text/plain": [
              "(3, 4)"
            ]
          },
          "metadata": {},
          "execution_count": 179
        }
      ]
    },
    {
      "cell_type": "code",
      "source": [
        "# Değiştirilemezlik özelliği\n",
        "demet[0] = 10"
      ],
      "metadata": {
        "id": "pfXM0v2PfT9S",
        "colab": {
          "base_uri": "https://localhost:8080/",
          "height": 193
        },
        "outputId": "59f535ee-0ece-4a2b-95bf-e5a4b8045d64"
      },
      "execution_count": null,
      "outputs": [
        {
          "output_type": "error",
          "ename": "TypeError",
          "evalue": "ignored",
          "traceback": [
            "\u001b[0;31m---------------------------------------------------------------------------\u001b[0m",
            "\u001b[0;31mTypeError\u001b[0m                                 Traceback (most recent call last)",
            "\u001b[0;32m<ipython-input-180-557d2ada0819>\u001b[0m in \u001b[0;36m<cell line: 2>\u001b[0;34m()\u001b[0m\n\u001b[1;32m      1\u001b[0m \u001b[0;31m# Değiştirilemezlik özelliği\u001b[0m\u001b[0;34m\u001b[0m\u001b[0;34m\u001b[0m\u001b[0m\n\u001b[0;32m----> 2\u001b[0;31m \u001b[0mdemet\u001b[0m\u001b[0;34m[\u001b[0m\u001b[0;36m0\u001b[0m\u001b[0;34m]\u001b[0m \u001b[0;34m=\u001b[0m \u001b[0;36m10\u001b[0m\u001b[0;34m\u001b[0m\u001b[0;34m\u001b[0m\u001b[0m\n\u001b[0m",
            "\u001b[0;31mTypeError\u001b[0m: 'tuple' object does not support item assignment"
          ]
        }
      ]
    },
    {
      "cell_type": "code",
      "source": [
        "# Farklı veri tipleri içeren tuple oluşturma\n",
        "\n",
        "farkli_tipler = (1, \"iki\", True, 3.14)"
      ],
      "metadata": {
        "id": "79_F510_fXjf"
      },
      "execution_count": null,
      "outputs": []
    },
    {
      "cell_type": "code",
      "source": [
        "# Tuple oluşturma\n",
        "demet = (10, 20, 30, 40, 50)\n",
        "\n",
        "# For döngüsüyle tuple elemanlarını yazdırma\n",
        "for eleman in demet:\n",
        "    print(eleman)"
      ],
      "metadata": {
        "id": "IkR-7JlghFSG",
        "colab": {
          "base_uri": "https://localhost:8080/"
        },
        "outputId": "e6896e20-5332-4c61-a04f-27c532f8b970"
      },
      "execution_count": null,
      "outputs": [
        {
          "output_type": "stream",
          "name": "stdout",
          "text": [
            "10\n",
            "20\n",
            "30\n",
            "40\n",
            "50\n"
          ]
        }
      ]
    },
    {
      "cell_type": "markdown",
      "source": [
        "#### **Tuple Fonksiyonları**\n",
        "* `count()`: Belirtilen bir öğenin tuple içinde kaç defa geçtiğini sayar.\n",
        "* `index()`: Belirtilen bir öğenin ilk olarak hangi indekste bulunduğunu döndürür.\n"
      ],
      "metadata": {
        "id": "8DSaMSUcsf5S"
      }
    },
    {
      "cell_type": "code",
      "source": [
        "my_tuple = (1, 2, 3, 1, 4, 1)"
      ],
      "metadata": {
        "id": "yZQRVxbis68B"
      },
      "execution_count": null,
      "outputs": []
    },
    {
      "cell_type": "code",
      "source": [
        "my_tuple.count(1)"
      ],
      "metadata": {
        "id": "AQafd_DQsr_N",
        "colab": {
          "base_uri": "https://localhost:8080/"
        },
        "outputId": "9a6dac5e-6103-4e5e-cfe4-c7174c844d23"
      },
      "execution_count": null,
      "outputs": [
        {
          "output_type": "execute_result",
          "data": {
            "text/plain": [
              "3"
            ]
          },
          "metadata": {},
          "execution_count": 184
        }
      ]
    },
    {
      "cell_type": "code",
      "source": [
        "my_tuple.index(3)"
      ],
      "metadata": {
        "id": "vhpJ2Oehs04s",
        "colab": {
          "base_uri": "https://localhost:8080/"
        },
        "outputId": "187c3f7a-ab44-4d83-a28e-c90fda8bbb6f"
      },
      "execution_count": null,
      "outputs": [
        {
          "output_type": "execute_result",
          "data": {
            "text/plain": [
              "2"
            ]
          },
          "metadata": {},
          "execution_count": 185
        }
      ]
    },
    {
      "cell_type": "markdown",
      "source": [
        "### **Dictionary**\n",
        "* Her anahtar, bir değere bağlıdır. Her anahtar benzersiz olmalıdır.\n",
        "* Dinamik olarak büyütülebilir veya küçültülebilir.\n",
        "* Anahtarlar arasında sıralı bir ilişki yoktur.\n",
        "* Anahtar kullanarak hızlı değer erişimi sağlar.\n",
        "* İçeriği değiştirilebilir.\n",
        "* \"`{}`\" içinde tanımlanır."
      ],
      "metadata": {
        "id": "og3oQtltkGRy"
      }
    },
    {
      "cell_type": "code",
      "source": [
        "# Dictionary oluşturma\n",
        "sozluk = {\n",
        "    \"isim\": \"Uğur\",\n",
        "    \"yas\": 26,\n",
        "    \"sehir\": \"Bursa\"\n",
        "}"
      ],
      "metadata": {
        "id": "uiOOD1HOi1Sb"
      },
      "execution_count": null,
      "outputs": []
    },
    {
      "cell_type": "code",
      "source": [
        "# Dictionary elemanlarına erişim\n",
        "sozluk[\"isim\"]"
      ],
      "metadata": {
        "id": "weAMrSQ1gRwv",
        "colab": {
          "base_uri": "https://localhost:8080/",
          "height": 35
        },
        "outputId": "c925c990-6b88-47a4-b144-e9a8eee15583"
      },
      "execution_count": null,
      "outputs": [
        {
          "output_type": "execute_result",
          "data": {
            "text/plain": [
              "'Uğur'"
            ],
            "application/vnd.google.colaboratory.intrinsic+json": {
              "type": "string"
            }
          },
          "metadata": {},
          "execution_count": 187
        }
      ]
    },
    {
      "cell_type": "code",
      "source": [
        "sozluk.get(\"yas\")"
      ],
      "metadata": {
        "id": "-TR4db9qgUKt",
        "colab": {
          "base_uri": "https://localhost:8080/"
        },
        "outputId": "a8fc3388-de8c-47f6-b78e-b597cb9d4909"
      },
      "execution_count": null,
      "outputs": [
        {
          "output_type": "execute_result",
          "data": {
            "text/plain": [
              "26"
            ]
          },
          "metadata": {},
          "execution_count": 188
        }
      ]
    },
    {
      "cell_type": "code",
      "source": [
        "# Yeni bir çift ekleme\n",
        "sozluk[\"meslek\"] = \"Mühendis\"\n",
        "sozluk"
      ],
      "metadata": {
        "id": "WRRXFIXdgboE",
        "colab": {
          "base_uri": "https://localhost:8080/"
        },
        "outputId": "245e1149-e210-4685-9e4e-4cd8b4ec70db"
      },
      "execution_count": null,
      "outputs": [
        {
          "output_type": "execute_result",
          "data": {
            "text/plain": [
              "{'isim': 'Uğur', 'yas': 26, 'sehir': 'Bursa', 'meslek': 'Mühendis'}"
            ]
          },
          "metadata": {},
          "execution_count": 189
        }
      ]
    },
    {
      "cell_type": "code",
      "source": [
        "# Belirli bir çifti silme\n",
        "del sozluk[\"yas\"]"
      ],
      "metadata": {
        "id": "Q1KaGH_60vev"
      },
      "execution_count": null,
      "outputs": []
    },
    {
      "cell_type": "code",
      "source": [
        "# Dictionary oluşturma\n",
        "sozluk = {\n",
        "    \"isim\": \"Uğur\",\n",
        "    \"yas\": 26,\n",
        "    \"sehir\": \"Bursa\"\n",
        "}"
      ],
      "metadata": {
        "id": "i0-yueaB0yle"
      },
      "execution_count": null,
      "outputs": []
    },
    {
      "cell_type": "code",
      "source": [
        "# Anahtarları ve değerleri alma\n",
        "sozluk.keys()"
      ],
      "metadata": {
        "id": "1E6q-kWqg5RY",
        "colab": {
          "base_uri": "https://localhost:8080/"
        },
        "outputId": "f5429568-6b78-4514-cc82-bcf22acd8284"
      },
      "execution_count": null,
      "outputs": [
        {
          "output_type": "execute_result",
          "data": {
            "text/plain": [
              "dict_keys(['isim', 'yas', 'sehir'])"
            ]
          },
          "metadata": {},
          "execution_count": 192
        }
      ]
    },
    {
      "cell_type": "code",
      "source": [
        "sozluk.values()"
      ],
      "metadata": {
        "id": "Pbo38DmkhEeZ",
        "colab": {
          "base_uri": "https://localhost:8080/"
        },
        "outputId": "e9e7da33-c085-421e-e130-de13586d6c1f"
      },
      "execution_count": null,
      "outputs": [
        {
          "output_type": "execute_result",
          "data": {
            "text/plain": [
              "dict_values(['Uğur', 26, 'Bursa'])"
            ]
          },
          "metadata": {},
          "execution_count": 193
        }
      ]
    },
    {
      "cell_type": "code",
      "source": [
        "# Anahtar-değer çiftlerine erişim\n",
        "sozluk.items()"
      ],
      "metadata": {
        "id": "NvnGqb94g_MY",
        "colab": {
          "base_uri": "https://localhost:8080/"
        },
        "outputId": "b209fe99-a64c-47ca-9e8d-d9b4f138daf3"
      },
      "execution_count": null,
      "outputs": [
        {
          "output_type": "execute_result",
          "data": {
            "text/plain": [
              "dict_items([('isim', 'Uğur'), ('yas', 26), ('sehir', 'Bursa')])"
            ]
          },
          "metadata": {},
          "execution_count": 194
        }
      ]
    },
    {
      "cell_type": "code",
      "source": [
        "# Dictionary oluşturma\n",
        "sozluk = {\n",
        "    \"isim\": \"Ahmet\",\n",
        "    \"yas\": 25,\n",
        "    \"sehir\": \"İstanbul\"\n",
        "  }"
      ],
      "metadata": {
        "id": "Vx4LJ7MX07Ci"
      },
      "execution_count": null,
      "outputs": []
    },
    {
      "cell_type": "code",
      "source": [
        "# For döngüsüyle dictionary elemanlarını yazdırma\n",
        "for key in sozluk:\n",
        "    print(key, \":\", sozluk[key])"
      ],
      "metadata": {
        "id": "0-R7zyGrh5WL",
        "colab": {
          "base_uri": "https://localhost:8080/"
        },
        "outputId": "e9f324eb-f7e0-477f-f02a-3413354fbd18"
      },
      "execution_count": null,
      "outputs": [
        {
          "output_type": "stream",
          "name": "stdout",
          "text": [
            "isim : Ahmet\n",
            "yas : 25\n",
            "sehir : İstanbul\n"
          ]
        }
      ]
    },
    {
      "cell_type": "code",
      "source": [
        "# Anahtar ve değerlerin ayrı ayrı yazdırılması\n",
        "for key, value in sozluk.items():\n",
        "    print(key, \":\", value)"
      ],
      "metadata": {
        "id": "jn95exYih8Cf",
        "colab": {
          "base_uri": "https://localhost:8080/"
        },
        "outputId": "389d99c0-2986-4dfd-a924-2c73f8123c7b"
      },
      "execution_count": null,
      "outputs": [
        {
          "output_type": "stream",
          "name": "stdout",
          "text": [
            "isim : Ahmet\n",
            "yas : 25\n",
            "sehir : İstanbul\n"
          ]
        }
      ]
    },
    {
      "cell_type": "code",
      "source": [
        "# Dictionary içerisinde dictionary oluşturma\n",
        "sozluk = {\n",
        "    \"isim\": \"Uğur\",\n",
        "    \"yas\": 26,\n",
        "    \"ikamet\": {\n",
        "        \"sehir\" : \"Bursa\",\n",
        "        \"ilce\" : \"Osmangazi\"\n",
        "    }\n",
        "}"
      ],
      "metadata": {
        "id": "b5zv3leJZsWL"
      },
      "execution_count": null,
      "outputs": []
    },
    {
      "cell_type": "code",
      "source": [
        "sozluk[\"ikamet\"]"
      ],
      "metadata": {
        "colab": {
          "base_uri": "https://localhost:8080/"
        },
        "id": "AwTLWhNmaJde",
        "outputId": "9e73182b-cff6-4984-c45f-325f634a37d9"
      },
      "execution_count": null,
      "outputs": [
        {
          "output_type": "execute_result",
          "data": {
            "text/plain": [
              "{'sehir': 'Bursa', 'ilce': 'Osmangazi'}"
            ]
          },
          "metadata": {},
          "execution_count": 199
        }
      ]
    },
    {
      "cell_type": "code",
      "source": [
        "sozluk[\"ikamet\"][\"sehir\"]"
      ],
      "metadata": {
        "colab": {
          "base_uri": "https://localhost:8080/",
          "height": 35
        },
        "id": "nBMi5s3oaTDO",
        "outputId": "f1b5a182-8b33-4a87-e6c4-0c3461856418"
      },
      "execution_count": null,
      "outputs": [
        {
          "output_type": "execute_result",
          "data": {
            "text/plain": [
              "'Bursa'"
            ],
            "application/vnd.google.colaboratory.intrinsic+json": {
              "type": "string"
            }
          },
          "metadata": {},
          "execution_count": 200
        }
      ]
    },
    {
      "cell_type": "markdown",
      "source": [
        "#### Örnek: Öğrenci notları"
      ],
      "metadata": {
        "id": "AbTKQEGft7iZ"
      }
    },
    {
      "cell_type": "code",
      "source": [
        "sinif_notlari = {\n",
        "    'Ali': 85,\n",
        "    'Mehmet': 70,\n",
        "    'Ayşe': 90,\n",
        "    'Fatma': 60,\n",
        "    'Zeynep': 75\n",
        "  }\n",
        "\n",
        "# Sadece geçen öğrencilerin notlarını seçme\n",
        "gecenler = {ogrenci: notu for ogrenci, notu in sinif_notlari.items() if notu >= 70}\n",
        "\n",
        "print(gecenler)"
      ],
      "metadata": {
        "id": "7V-v323Ermr6",
        "colab": {
          "base_uri": "https://localhost:8080/"
        },
        "outputId": "a056a0d2-e8c4-49d0-c5e8-48444ca049ed"
      },
      "execution_count": null,
      "outputs": [
        {
          "output_type": "stream",
          "name": "stdout",
          "text": [
            "{'Ali': 85, 'Mehmet': 70, 'Ayşe': 90, 'Zeynep': 75}\n"
          ]
        }
      ]
    },
    {
      "cell_type": "markdown",
      "source": [
        "### **Set**\n",
        "* Her eleman birbirinden farklı olmalıdır, set içinde aynı elemandan birden fazla bulunamaz.\n",
        "* `{}` içinde tanımlanır.\n",
        "  * Örnek: my_set = {1, 2, 3}.\n",
        "* İçeriği değiştirilebilir; elemanlar eklenebilir veya çıkarılabilir.\n",
        "* Elemanlar arasında herhangi bir sıralama yoktur, set'ler sıralı değildir.\n",
        "* Set içinde listeler veya diğer setler gibi değiştirilebilir öğeler bulunamaz, ancak string veya tuple gibi immutable yani içeriği değiştirilemez olanlar bulunabilir.\n",
        "* Set'ler arasında kesişim, birleşim gibi küme işlemleri yapmak için kullanılır."
      ],
      "metadata": {
        "id": "lPQ5XfVxkM7q"
      }
    },
    {
      "cell_type": "code",
      "source": [
        "# Set oluşturma\n",
        "kume = {1, 2, 2, 1, 3, 4, 4, 4, 5}\n",
        "kume"
      ],
      "metadata": {
        "colab": {
          "base_uri": "https://localhost:8080/"
        },
        "id": "8ihlnrTvBi9w",
        "outputId": "8aafe8d9-7b33-4123-8693-667a13a4c4c2"
      },
      "execution_count": null,
      "outputs": [
        {
          "output_type": "execute_result",
          "data": {
            "text/plain": [
              "{1, 2, 3, 4, 5}"
            ]
          },
          "metadata": {},
          "execution_count": 202
        }
      ]
    },
    {
      "cell_type": "code",
      "source": [
        "# Set elemanlarına erişim\n",
        "for eleman in kume:\n",
        "    print(eleman)"
      ],
      "metadata": {
        "id": "jn3eB7Do3Lx9",
        "colab": {
          "base_uri": "https://localhost:8080/"
        },
        "outputId": "0d85d96b-5b5d-4e82-8652-0f106f90fd0a"
      },
      "execution_count": null,
      "outputs": [
        {
          "output_type": "stream",
          "name": "stdout",
          "text": [
            "1\n",
            "2\n",
            "3\n",
            "4\n",
            "5\n"
          ]
        }
      ]
    },
    {
      "cell_type": "code",
      "source": [
        "my_set = {1, 2, \"string\", (4, 5)}  # Geçerli bir set, string ve tuple içeriyor\n",
        "my_set.add([3, 4])"
      ],
      "metadata": {
        "id": "zD7i0s8c9Ctz",
        "colab": {
          "base_uri": "https://localhost:8080/",
          "height": 193
        },
        "outputId": "fe5d35ea-1357-46bd-8b78-dba332915987"
      },
      "execution_count": null,
      "outputs": [
        {
          "output_type": "error",
          "ename": "TypeError",
          "evalue": "ignored",
          "traceback": [
            "\u001b[0;31m---------------------------------------------------------------------------\u001b[0m",
            "\u001b[0;31mTypeError\u001b[0m                                 Traceback (most recent call last)",
            "\u001b[0;32m<ipython-input-204-5b15a615b010>\u001b[0m in \u001b[0;36m<cell line: 2>\u001b[0;34m()\u001b[0m\n\u001b[1;32m      1\u001b[0m \u001b[0mmy_set\u001b[0m \u001b[0;34m=\u001b[0m \u001b[0;34m{\u001b[0m\u001b[0;36m1\u001b[0m\u001b[0;34m,\u001b[0m \u001b[0;36m2\u001b[0m\u001b[0;34m,\u001b[0m \u001b[0;34m\"string\"\u001b[0m\u001b[0;34m,\u001b[0m \u001b[0;34m(\u001b[0m\u001b[0;36m4\u001b[0m\u001b[0;34m,\u001b[0m \u001b[0;36m5\u001b[0m\u001b[0;34m)\u001b[0m\u001b[0;34m}\u001b[0m  \u001b[0;31m# Geçerli bir set, string ve tuple içeriyor\u001b[0m\u001b[0;34m\u001b[0m\u001b[0;34m\u001b[0m\u001b[0m\n\u001b[0;32m----> 2\u001b[0;31m \u001b[0mmy_set\u001b[0m\u001b[0;34m.\u001b[0m\u001b[0madd\u001b[0m\u001b[0;34m(\u001b[0m\u001b[0;34m[\u001b[0m\u001b[0;36m3\u001b[0m\u001b[0;34m,\u001b[0m \u001b[0;36m4\u001b[0m\u001b[0;34m]\u001b[0m\u001b[0;34m)\u001b[0m\u001b[0;34m\u001b[0m\u001b[0;34m\u001b[0m\u001b[0m\n\u001b[0m",
            "\u001b[0;31mTypeError\u001b[0m: unhashable type: 'list'"
          ]
        }
      ]
    },
    {
      "cell_type": "markdown",
      "source": [
        "#### **Set Fonksiyonları**\n",
        "* `add()`: Bir sete yeni bir öğe ekler.\n",
        "* `remove()`: Belirtilen bir öğeyi setten kaldırır. Eğer öğe sette yoksa hata verir.\n",
        "* `discard()`: Belirtilen bir öğeyi setten kaldırır, ancak öğe sette yoksa hata vermez.\n",
        "* `clear()`: Tüm setin içeriğini temizler, boş bir set oluşturur.\n",
        "* `intersection()`: İki setin kesişimini döndürür.\n",
        "* `union()`: İki setin birleşimini döndürür."
      ],
      "metadata": {
        "id": "OlmkFjBv9I9V"
      }
    },
    {
      "cell_type": "code",
      "source": [
        "my_set = {1, 2, 3}\n",
        "my_set.add(4)\n",
        "my_set"
      ],
      "metadata": {
        "id": "61zu1Jji_WIr",
        "colab": {
          "base_uri": "https://localhost:8080/"
        },
        "outputId": "f6191abc-0d85-4c63-d02e-7aff08eb52f6"
      },
      "execution_count": null,
      "outputs": [
        {
          "output_type": "execute_result",
          "data": {
            "text/plain": [
              "{1, 2, 3, 4}"
            ]
          },
          "metadata": {},
          "execution_count": 205
        }
      ]
    },
    {
      "cell_type": "code",
      "source": [
        "my_set = {1, 2, 3}\n",
        "my_set.remove(2)\n",
        "my_set"
      ],
      "metadata": {
        "id": "6iW2URc1_YeW",
        "colab": {
          "base_uri": "https://localhost:8080/"
        },
        "outputId": "e2f70146-bf89-49aa-b0cd-21954dae3bcf"
      },
      "execution_count": null,
      "outputs": [
        {
          "output_type": "execute_result",
          "data": {
            "text/plain": [
              "{1, 3}"
            ]
          },
          "metadata": {},
          "execution_count": 206
        }
      ]
    },
    {
      "cell_type": "code",
      "source": [
        "my_set = {1, 2, 3}\n",
        "my_set.discard(4)\n",
        "my_set"
      ],
      "metadata": {
        "id": "JOm7EMJS_iGw",
        "colab": {
          "base_uri": "https://localhost:8080/"
        },
        "outputId": "060e4254-3e70-4f26-f575-42811d1e3f1f"
      },
      "execution_count": null,
      "outputs": [
        {
          "output_type": "execute_result",
          "data": {
            "text/plain": [
              "{1, 2, 3}"
            ]
          },
          "metadata": {},
          "execution_count": 207
        }
      ]
    },
    {
      "cell_type": "code",
      "source": [
        "my_set = {1, 2, 3}\n",
        "my_set.clear()\n",
        "my_set"
      ],
      "metadata": {
        "id": "cTIRSdarBALD",
        "colab": {
          "base_uri": "https://localhost:8080/"
        },
        "outputId": "9a39d9a3-0158-47ef-9a30-3d1e96dcec55"
      },
      "execution_count": null,
      "outputs": [
        {
          "output_type": "execute_result",
          "data": {
            "text/plain": [
              "set()"
            ]
          },
          "metadata": {},
          "execution_count": 208
        }
      ]
    },
    {
      "cell_type": "code",
      "source": [
        "set1 = {1, 2, 3}\n",
        "set2 = {3, 4, 5}\n",
        "intersection = set1.intersection(set2)\n",
        "\n",
        "intersection"
      ],
      "metadata": {
        "id": "inQWoy5aBQ43",
        "colab": {
          "base_uri": "https://localhost:8080/"
        },
        "outputId": "6bdf0eef-4033-4b02-f93b-e5d23e8af8bf"
      },
      "execution_count": null,
      "outputs": [
        {
          "output_type": "execute_result",
          "data": {
            "text/plain": [
              "{3}"
            ]
          },
          "metadata": {},
          "execution_count": 209
        }
      ]
    },
    {
      "cell_type": "code",
      "source": [
        "set1 = {1, 2, 3}\n",
        "set2 = {3, 4, 5}\n",
        "union = set1.union(set2)\n",
        "\n",
        "union"
      ],
      "metadata": {
        "id": "Oh1j7QfsBU4Z",
        "colab": {
          "base_uri": "https://localhost:8080/"
        },
        "outputId": "a196c811-5700-4959-e5f8-3e4da6a3e697"
      },
      "execution_count": null,
      "outputs": [
        {
          "output_type": "execute_result",
          "data": {
            "text/plain": [
              "{1, 2, 3, 4, 5}"
            ]
          },
          "metadata": {},
          "execution_count": 210
        }
      ]
    },
    {
      "cell_type": "markdown",
      "source": [
        "### **Çoklu Veri Tipleri Tip Dönüşümleri**"
      ],
      "metadata": {
        "id": "aZUPfqkoXCKW"
      }
    },
    {
      "cell_type": "code",
      "source": [
        "a=[1,2,3,4,5]\n",
        "b=(1,2,3,4,5)\n",
        "c=\"Uğur\"\n",
        "sozluk = {'a': 1, 'b': 2, 'c': 3}"
      ],
      "metadata": {
        "id": "7vVIG080XLOj"
      },
      "execution_count": null,
      "outputs": []
    },
    {
      "cell_type": "code",
      "source": [
        "obj=list(c)\n",
        "obj"
      ],
      "metadata": {
        "colab": {
          "base_uri": "https://localhost:8080/"
        },
        "id": "bSFFbAqNX-wT",
        "outputId": "10cd6755-bd27-4498-8295-73b904af66af"
      },
      "execution_count": null,
      "outputs": [
        {
          "output_type": "execute_result",
          "data": {
            "text/plain": [
              "['U', 'ğ', 'u', 'r']"
            ]
          },
          "metadata": {},
          "execution_count": 212
        }
      ]
    },
    {
      "cell_type": "code",
      "source": [
        "obj=list(b)\n",
        "obj"
      ],
      "metadata": {
        "colab": {
          "base_uri": "https://localhost:8080/"
        },
        "id": "CKdssYOJYBSt",
        "outputId": "7bdd86c0-8734-48b3-9ee9-f7fedb07403f"
      },
      "execution_count": null,
      "outputs": [
        {
          "output_type": "execute_result",
          "data": {
            "text/plain": [
              "[1, 2, 3, 4, 5]"
            ]
          },
          "metadata": {},
          "execution_count": 213
        }
      ]
    },
    {
      "cell_type": "code",
      "source": [
        "obj=tuple(c)\n",
        "obj"
      ],
      "metadata": {
        "colab": {
          "base_uri": "https://localhost:8080/"
        },
        "id": "i0FTJZaJYE-Q",
        "outputId": "2b770fb2-b8e9-4841-a718-4b0aa5e68cd5"
      },
      "execution_count": null,
      "outputs": [
        {
          "output_type": "execute_result",
          "data": {
            "text/plain": [
              "('U', 'ğ', 'u', 'r')"
            ]
          },
          "metadata": {},
          "execution_count": 214
        }
      ]
    },
    {
      "cell_type": "code",
      "source": [
        "obj=tuple(a)\n",
        "obj"
      ],
      "metadata": {
        "colab": {
          "base_uri": "https://localhost:8080/"
        },
        "id": "My8qdTBUYHTn",
        "outputId": "57fbf0ab-ccb4-49ed-808d-9a1b0d7b0b57"
      },
      "execution_count": null,
      "outputs": [
        {
          "output_type": "execute_result",
          "data": {
            "text/plain": [
              "(1, 2, 3, 4, 5)"
            ]
          },
          "metadata": {},
          "execution_count": 215
        }
      ]
    },
    {
      "cell_type": "code",
      "source": [
        "obj=str(a)\n",
        "obj"
      ],
      "metadata": {
        "colab": {
          "base_uri": "https://localhost:8080/",
          "height": 35
        },
        "id": "fiszB8Z2YJxz",
        "outputId": "f688e420-e23e-4027-81b2-9264232f774b"
      },
      "execution_count": null,
      "outputs": [
        {
          "output_type": "execute_result",
          "data": {
            "text/plain": [
              "'[1, 2, 3, 4, 5]'"
            ],
            "application/vnd.google.colaboratory.intrinsic+json": {
              "type": "string"
            }
          },
          "metadata": {},
          "execution_count": 216
        }
      ]
    },
    {
      "cell_type": "code",
      "source": [
        "obj=str(b)\n",
        "obj"
      ],
      "metadata": {
        "colab": {
          "base_uri": "https://localhost:8080/",
          "height": 35
        },
        "id": "ApSL6v-JYL3T",
        "outputId": "c76a9b4a-bc5f-4813-ffae-930b45a8dd03"
      },
      "execution_count": null,
      "outputs": [
        {
          "output_type": "execute_result",
          "data": {
            "text/plain": [
              "'(1, 2, 3, 4, 5)'"
            ],
            "application/vnd.google.colaboratory.intrinsic+json": {
              "type": "string"
            }
          },
          "metadata": {},
          "execution_count": 217
        }
      ]
    },
    {
      "cell_type": "code",
      "source": [
        "sozluk_degerleri = list(sozluk.items())\n",
        "print(sozluk_degerleri)"
      ],
      "metadata": {
        "colab": {
          "base_uri": "https://localhost:8080/"
        },
        "id": "sJYrQnujY53O",
        "outputId": "fde05bd3-e039-4981-ac74-47cb3f42d32f"
      },
      "execution_count": null,
      "outputs": [
        {
          "output_type": "stream",
          "name": "stdout",
          "text": [
            "[('a', 1), ('b', 2), ('c', 3)]\n"
          ]
        }
      ]
    },
    {
      "cell_type": "markdown",
      "source": [
        "## **5. Fonksiyonlar**\n",
        "Python'da adlandırılmış bir görev veya işlevi gerçekleştiren, tekrar tekrar kullanılabilir kod bloklarıdır.\n",
        "* **Başlık (Header):** Fonksiyonun adı ve gerekirse parametreleri içerir. Python'da fonksiyonlar `def` anahtar kelimesiyle başlar.\n",
        "* **Gövde (Body):** Fonksiyonun gerçek işlevini yerine getiren kod parçaları burada bulunur. İşlem yapacak kodlar burada yazılır.\n",
        "* **Dönüş Değeri (Return Value) (opsiyonel):** Fonksiyon, bir değer döndürmek üzere tasarlanmışsa return ifadesiyle bir değer dönebilir.\n",
        "* D**ocstring(Döküman metni) (opsiyonel):** Üç tırnak içine alınmış çoklu satırlı bir dizedir ve bir program bileşeninin kullanımını, işlevini veya nasıl kullanılacağını açıklar. Docstring'ler, programcıların kodlarını belgelendirirken ve anlaşılırlığını artırırken, başkalarının veya kendilerinin kodlarını daha kolay anlamalarını sağlar.\n"
      ],
      "metadata": {
        "id": "0gvW4MEHkXrc"
      }
    },
    {
      "cell_type": "code",
      "source": [
        "def selam_ver():\n",
        "   \"Bu bir docstring dökümanıdır.\"\n",
        "   print (\"Merhaba dünya!\")\n",
        "\n",
        "selam_ver()"
      ],
      "metadata": {
        "id": "PyHyKfV9ac8m",
        "colab": {
          "base_uri": "https://localhost:8080/"
        },
        "outputId": "736b95f2-0c19-4c0b-925a-7d43dcbffea8"
      },
      "execution_count": null,
      "outputs": [
        {
          "output_type": "stream",
          "name": "stdout",
          "text": [
            "Merhaba dünya!\n"
          ]
        }
      ]
    },
    {
      "cell_type": "markdown",
      "source": [
        "#### **Return Değerli Fonksiyonlar**"
      ],
      "metadata": {
        "id": "3nIkl3VCct3_"
      }
    },
    {
      "cell_type": "code",
      "source": [
        "def topla(x,y):\n",
        "   z = x + y\n",
        "   return z\n",
        "\n",
        "a = 10\n",
        "b = 20\n",
        "sonuc = topla(a, b)\n",
        "print (\"a = {} b = {} a + b = {}\".format(a, b, sonuc))"
      ],
      "metadata": {
        "id": "-ggtcolucODV",
        "colab": {
          "base_uri": "https://localhost:8080/"
        },
        "outputId": "23090795-62ee-4156-bcda-be5ea03256eb"
      },
      "execution_count": null,
      "outputs": [
        {
          "output_type": "stream",
          "name": "stdout",
          "text": [
            "a = 10 b = 20 a + b = 30\n"
          ]
        }
      ]
    },
    {
      "cell_type": "markdown",
      "source": [
        "#### **Varsayılan Argümanlar**"
      ],
      "metadata": {
        "id": "3mojC3RtaR3M"
      }
    },
    {
      "cell_type": "code",
      "source": [
        "def yüzde(fizik, mat, maxpuan=200):\n",
        "   val = (fizik + mat) * 100 / maxpuan\n",
        "   return val\n",
        "\n",
        "fizik = 60\n",
        "mat = 70\n",
        "sonuc = yüzde(fizik, mat)\n",
        "print (\"yüzdelik:\", sonuc)\n",
        "\n",
        "fizik = 40\n",
        "mat = 46\n",
        "sonuc = yüzde(fizik, mat, 100)\n",
        "print (\"yüzdelik:\", sonuc)"
      ],
      "metadata": {
        "id": "xer9dTx1aBOR",
        "colab": {
          "base_uri": "https://localhost:8080/"
        },
        "outputId": "ce17728b-5a3e-4246-bae3-e61782ef9754"
      },
      "execution_count": null,
      "outputs": [
        {
          "output_type": "stream",
          "name": "stdout",
          "text": [
            "yüzdelik: 65.0\n",
            "yüzdelik: 86.0\n"
          ]
        }
      ]
    },
    {
      "cell_type": "markdown",
      "source": [
        "#### **Birden Fazla Sonuç Döndürme**\n",
        "\n",
        "Birden fazla return değeri döndüren fonksiyonlar bu değerleri tuple değişkeni olarak tutar."
      ],
      "metadata": {
        "id": "YcpBeum985Pf"
      }
    },
    {
      "cell_type": "code",
      "source": [
        "def ad_soyad_ayir(ad_soyad):\n",
        "  ad = ad_soyad.split()[0]\n",
        "  soyad = ad_soyad.split()[1]\n",
        "  return ad, soyad"
      ],
      "metadata": {
        "id": "fUIAnIsm9zuo"
      },
      "execution_count": null,
      "outputs": []
    },
    {
      "cell_type": "code",
      "source": [
        "ad_soyad_ayir(\"Uğur İPEKDÜZEN\")"
      ],
      "metadata": {
        "id": "iMWjN-C-Aw9e",
        "colab": {
          "base_uri": "https://localhost:8080/"
        },
        "outputId": "605ff012-ee76-4d4b-9b9a-f4a6933a52fa"
      },
      "execution_count": null,
      "outputs": [
        {
          "output_type": "execute_result",
          "data": {
            "text/plain": [
              "('Uğur', 'İPEKDÜZEN')"
            ]
          },
          "metadata": {},
          "execution_count": 223
        }
      ]
    },
    {
      "cell_type": "markdown",
      "source": [
        "#### **Map, Lambda, Filter**"
      ],
      "metadata": {
        "id": "-YXysvij1oMc"
      }
    },
    {
      "cell_type": "markdown",
      "source": [
        "**Lambda:** Adı olmayan küçük bir anonim fonksiyon oluşturmak için kullanılır. Tek satırda basit işlevler tanımlamak için idealdir."
      ],
      "metadata": {
        "id": "ECCSgoPJ7B54"
      }
    },
    {
      "cell_type": "code",
      "source": [
        "# Lambda fonksiyonu örneği\n",
        "kare_al = lambda x: x ** 2\n",
        "print(kare_al(5))"
      ],
      "metadata": {
        "id": "a4B0wXfm5SYm",
        "colab": {
          "base_uri": "https://localhost:8080/"
        },
        "outputId": "eff02e29-004c-454a-b8a1-135be99b7983"
      },
      "execution_count": null,
      "outputs": [
        {
          "output_type": "stream",
          "name": "stdout",
          "text": [
            "25\n"
          ]
        }
      ]
    },
    {
      "cell_type": "markdown",
      "source": [
        "**Map:** Bir fonksiyonu, belirtilen bir veri koleksiyonunun her bir öğesine uygulamak için kullanılır."
      ],
      "metadata": {
        "id": "0mcRvpF77CXo"
      }
    },
    {
      "cell_type": "code",
      "source": [
        "# Map fonksiyonu örneği\n",
        "sayilar = [1, 2, 3, 4, 5]\n",
        "\n",
        "kareler = list(map(lambda x: x ** 2, sayilar))\n",
        "print(kareler)"
      ],
      "metadata": {
        "id": "hRGILe-f1nw1",
        "colab": {
          "base_uri": "https://localhost:8080/"
        },
        "outputId": "15705c9f-fae5-4b10-d546-2a4990abd331"
      },
      "execution_count": null,
      "outputs": [
        {
          "output_type": "stream",
          "name": "stdout",
          "text": [
            "[1, 4, 9, 16, 25]\n"
          ]
        }
      ]
    },
    {
      "cell_type": "markdown",
      "source": [
        "**Filter:**  Bir koşula uyan öğeleri bir listeden veya iterasyon yapılabilen bir veri koleksiyonundan filtrelemek için kullanılır."
      ],
      "metadata": {
        "id": "-n9nSz-U7Cux"
      }
    },
    {
      "cell_type": "code",
      "source": [
        "# Filter fonksiyonu örneği\n",
        "sayilar = [1, 2, 3, 4, 5, 6]\n",
        "\n",
        "tek_sayilar = list(filter(lambda x: x % 2 != 0, sayilar))\n",
        "print(tek_sayilar)"
      ],
      "metadata": {
        "id": "XxJIztkm5SMj",
        "colab": {
          "base_uri": "https://localhost:8080/"
        },
        "outputId": "7cb0564d-d603-4418-a908-785420b9d964"
      },
      "execution_count": null,
      "outputs": [
        {
          "output_type": "stream",
          "name": "stdout",
          "text": [
            "[1, 3, 5]\n"
          ]
        }
      ]
    },
    {
      "cell_type": "markdown",
      "source": [
        "Örnek: Öğrenci Notları"
      ],
      "metadata": {
        "id": "5AeAaEEd7D4r"
      }
    },
    {
      "cell_type": "code",
      "source": [
        "ogrenci_notlari = {\n",
        "    'Ali': 80,\n",
        "    'Ayşe': 75,\n",
        "    'Mehmet': 90,\n",
        "    'Fatma': 85,\n",
        "    'Zeynep': 95\n",
        "}\n",
        "\n",
        "basarili_ogrenciler = list(filter(lambda x: x[1] >= 85, ogrenci_notlari.items()))\n",
        "print(basarili_ogrenciler)"
      ],
      "metadata": {
        "id": "OjV8pEex6jZ9",
        "colab": {
          "base_uri": "https://localhost:8080/"
        },
        "outputId": "a037c07c-20f7-4acb-dac0-0abf8c9cc556"
      },
      "execution_count": null,
      "outputs": [
        {
          "output_type": "stream",
          "name": "stdout",
          "text": [
            "[('Mehmet', 90), ('Fatma', 85), ('Zeynep', 95)]\n"
          ]
        }
      ]
    },
    {
      "cell_type": "markdown",
      "source": [
        "#### **Args (Non-Keyword Arguments)**\n",
        "* Bir fonksiyona sınırsız sayıda argüman geçirmek için kullanılır.\n",
        "* `*` sembolünü kullanmak suretiyle kullanılır; genellikle args kelimesiyle birlikte kullanılır.\n",
        "* `*` ile ilişkilendirdiğiniz değişken, iterable hale gelir. Bu da üzerinde döngü kurabileceğiniz, map ve filter gibi yüksek seviye işlevleri çalıştırabileceğiniz anlamına gelir."
      ],
      "metadata": {
        "id": "o2mZJXE085De"
      }
    },
    {
      "cell_type": "code",
      "source": [
        "def isim_soyisim_birleştir(*args):\n",
        "  for item in args:\n",
        "    print(item)\n",
        "  return \" \".join(args)"
      ],
      "metadata": {
        "id": "8n-GsyxF9_fC"
      },
      "execution_count": null,
      "outputs": []
    },
    {
      "cell_type": "code",
      "source": [
        "isim_soyisim_birleştir(\"Sait\", \"Faik\", \"Abasıyanık\")"
      ],
      "metadata": {
        "id": "BLax5uew-Zwz",
        "colab": {
          "base_uri": "https://localhost:8080/",
          "height": 87
        },
        "outputId": "45a51bd0-5093-495d-9ade-98658c811986"
      },
      "execution_count": null,
      "outputs": [
        {
          "output_type": "stream",
          "name": "stdout",
          "text": [
            "Sait\n",
            "Faik\n",
            "Abasıyanık\n"
          ]
        },
        {
          "output_type": "execute_result",
          "data": {
            "text/plain": [
              "'Sait Faik Abasıyanık'"
            ],
            "application/vnd.google.colaboratory.intrinsic+json": {
              "type": "string"
            }
          },
          "metadata": {},
          "execution_count": 229
        }
      ]
    },
    {
      "cell_type": "markdown",
      "source": [
        "#### **Kwargs (Keyword Arguments)**\n",
        "* Fonksiyonlara anahtar kelimeye sahip değişken sayıda argüman iletilmesini sağlar.\n",
        "* `**` sembolünü kullanmak suretiyle tanımlanır, genellikle kwargs kelimesiyle birlikte kullanılır.\n",
        "* Anahtar kelime argümanları, bir sözlük gibi davranan kwargs içerisinde tutulur. Her bir anahtar kelime, kendisine iletilen değerle eşleştirilir.\n",
        "* kwargs, adı ve değeri belirli bir sırayla taşımadığı için üzerinde iterasyon yapıldığında herhangi bir belirgin sıra göstermez.\n",
        "* Fonksiyon tanımında **kwargs parametresi, kod içerisindeki isimlendirme özgürlüğünü artırır ve esneklik sağlar, çünkü belirli bir anahtar kelime argümanına bağlı kalmadan değişken sayıda argüman alabilir."
      ],
      "metadata": {
        "id": "2N6OkELb9jtU"
      }
    },
    {
      "cell_type": "code",
      "source": [
        "def gobek_adi_yazdir(**kwargs):\n",
        "  if 'gobekadi' in kwargs:\n",
        "    print(kwargs['gobekadi'])\n",
        "  else:\n",
        "    print(\"gobekadi yok\")"
      ],
      "metadata": {
        "id": "HZJZAjpd-1zQ"
      },
      "execution_count": null,
      "outputs": []
    },
    {
      "cell_type": "code",
      "source": [
        "gobek_adi_yazdir(ad=\"sait\", gobekadi=\"faik\", soyad=\"abasıyanık\")"
      ],
      "metadata": {
        "id": "QO9hwneN_Jji",
        "colab": {
          "base_uri": "https://localhost:8080/"
        },
        "outputId": "36ce16dc-717b-435c-9650-4e6a535a59e1"
      },
      "execution_count": null,
      "outputs": [
        {
          "output_type": "stream",
          "name": "stdout",
          "text": [
            "faik\n"
          ]
        }
      ]
    }
  ]
}