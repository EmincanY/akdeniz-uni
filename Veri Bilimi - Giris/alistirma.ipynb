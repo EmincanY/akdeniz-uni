{
 "cells": [
  {
   "cell_type": "code",
   "execution_count": 1,
   "metadata": {},
   "outputs": [],
   "source": [
    "import numpy as np "
   ]
  },
  {
   "cell_type": "code",
   "execution_count": 2,
   "metadata": {},
   "outputs": [
    {
     "name": "stdout",
     "output_type": "stream",
     "text": [
      "1 boyutlu dizi: [1 2 3 4 5]\n"
     ]
    }
   ],
   "source": [
    "array_1d = np.array([1, 2, 3, 4, 5])\n",
    "print(\"1 boyutlu dizi:\", array_1d)"
   ]
  },
  {
   "cell_type": "code",
   "execution_count": 3,
   "metadata": {},
   "outputs": [
    {
     "name": "stdout",
     "output_type": "stream",
     "text": [
      "2 boyutlu dizi:\n",
      " [[1 2 3]\n",
      " [4 5 6]]\n"
     ]
    }
   ],
   "source": [
    "array_2d = np.array([[1, 2, 3], [4, 5, 6]])\n",
    "print(\"2 boyutlu dizi:\\n\", array_2d)"
   ]
  },
  {
   "cell_type": "code",
   "execution_count": 4,
   "metadata": {},
   "outputs": [
    {
     "name": "stdout",
     "output_type": "stream",
     "text": [
      "Sifirlardan oluşan dizi\n",
      " [[0. 0. 0.]\n",
      " [0. 0. 0.]]\n"
     ]
    }
   ],
   "source": [
    "zeros_array = np.zeros((2, 3)) \n",
    "print(\"Sifirlardan oluşan dizi\\n\", zeros_array)"
   ]
  },
  {
   "cell_type": "code",
   "execution_count": 5,
   "metadata": {},
   "outputs": [
    {
     "name": "stdout",
     "output_type": "stream",
     "text": [
      "Birlerden oluşan dizi\n",
      " [[1. 1. 1. 1.]\n",
      " [1. 1. 1. 1.]\n",
      " [1. 1. 1. 1.]]\n"
     ]
    }
   ],
   "source": [
    "ones_array = np.ones((3, 4)) \n",
    "print(\"Birlerden oluşan dizi\\n\", ones_array)"
   ]
  },
  {
   "cell_type": "code",
   "execution_count": 6,
   "metadata": {},
   "outputs": [
    {
     "name": "stdout",
     "output_type": "stream",
     "text": [
      "Belirli araliktaki dizi: [1 3 5 7 9]\n"
     ]
    }
   ],
   "source": [
    "range_array = np.arange(1, 10, 2) \n",
    "print(\"Belirli araliktaki dizi:\", range_array)"
   ]
  },
  {
   "cell_type": "code",
   "execution_count": 7,
   "metadata": {},
   "outputs": [
    {
     "name": "stdout",
     "output_type": "stream",
     "text": [
      "Dizi\n",
      " [  1.  34.  67. 100.]\n"
     ]
    }
   ],
   "source": [
    "arr = np.linspace(1, 100, 4)\n",
    "print('Dizi\\n', arr)"
   ]
  },
  {
   "cell_type": "code",
   "execution_count": 8,
   "metadata": {},
   "outputs": [
    {
     "name": "stdout",
     "output_type": "stream",
     "text": [
      "Karesi alinmis dizi\n",
      " [ 1  4  9 16 25]\n"
     ]
    }
   ],
   "source": [
    "array = np.array([1, 2, 3, 4, 5])\n",
    "print('Karesi alinmis dizi\\n', np.square(array))"
   ]
  },
  {
   "cell_type": "code",
   "execution_count": 9,
   "metadata": {},
   "outputs": [
    {
     "name": "stdout",
     "output_type": "stream",
     "text": [
      "Karekoku alinmis dizi\n",
      " [ 1.  4.  9. 10. 25.]\n"
     ]
    }
   ],
   "source": [
    "array = np.array([1, 16, 81, 100, 625])\n",
    "print('Karekoku alinmis dizi\\n', np.sqrt(array))"
   ]
  },
  {
   "cell_type": "code",
   "execution_count": 10,
   "metadata": {},
   "outputs": [
    {
     "name": "stdout",
     "output_type": "stream",
     "text": [
      "Dizi elemanlari toplami:  251\n",
      "Dizinin ortanca sayisi:  48.0\n",
      "Dizinin elemanlarini ortalamasi:  50.2\n"
     ]
    }
   ],
   "source": [
    "array_list = np.array([1, 5, 69, 48, 128])\n",
    "print('Dizi elemanlari toplami: ', np.sum(array_list))\n",
    "print('Dizinin ortanca sayisi: ', np.median(array_list))\n",
    "print('Dizinin elemanlarini ortalamasi: ', np.mean(array_list))"
   ]
  },
  {
   "cell_type": "code",
   "execution_count": 11,
   "metadata": {},
   "outputs": [
    {
     "ename": "ValueError",
     "evalue": "operands could not be broadcast together with shapes (5,) (4,) ",
     "output_type": "error",
     "traceback": [
      "\u001b[1;31m---------------------------------------------------------------------------\u001b[0m",
      "\u001b[1;31mValueError\u001b[0m                                Traceback (most recent call last)",
      "Cell \u001b[1;32mIn[11], line 4\u001b[0m\n\u001b[0;32m      1\u001b[0m array1 \u001b[38;5;241m=\u001b[39m np\u001b[38;5;241m.\u001b[39marray([\u001b[38;5;241m5\u001b[39m, \u001b[38;5;241m6\u001b[39m, \u001b[38;5;241m10\u001b[39m, \u001b[38;5;241m68\u001b[39m, \u001b[38;5;241m59\u001b[39m])\n\u001b[0;32m      2\u001b[0m array2 \u001b[38;5;241m=\u001b[39m np\u001b[38;5;241m.\u001b[39marray([\u001b[38;5;241m1\u001b[39m, \u001b[38;5;241m458\u001b[39m, \u001b[38;5;241m834\u001b[39m, \u001b[38;5;241m438\u001b[39m])\n\u001b[1;32m----> 4\u001b[0m \u001b[38;5;28mprint\u001b[39m(\u001b[38;5;124m'\u001b[39m\u001b[38;5;124mİki dizinin toplami:\u001b[39m\u001b[38;5;124m'\u001b[39m, (\u001b[43marray1\u001b[49m\u001b[38;5;241;43m-\u001b[39;49m\u001b[43marray2\u001b[49m))\n",
      "\u001b[1;31mValueError\u001b[0m: operands could not be broadcast together with shapes (5,) (4,) "
     ]
    }
   ],
   "source": [
    "array1 = np.array([5, 6, 10, 68, 59])\n",
    "array2 = np.array([1, 458, 834, 438])\n",
    "\n",
    "print('İki dizinin toplami:', (array1-array2))"
   ]
  },
  {
   "cell_type": "code",
   "execution_count": 12,
   "metadata": {},
   "outputs": [
    {
     "name": "stdout",
     "output_type": "stream",
     "text": [
      "İki dizinin toplami: [  6 464 844 506  83]\n",
      "İki dizinin farki: [   4 -452 -824 -370   35]\n"
     ]
    }
   ],
   "source": [
    "array1 = np.array([5, 6, 10, 68, 59])\n",
    "array2 = np.array([1, 458, 834, 438, 24])\n",
    "\n",
    "print('İki dizinin toplami:', (array1+array2))\n",
    "print('İki dizinin farki:', (array1-array2))"
   ]
  },
  {
   "cell_type": "code",
   "execution_count": 13,
   "metadata": {},
   "outputs": [
    {
     "name": "stdout",
     "output_type": "stream",
     "text": [
      "İki dizinin carpimi:  [ 5 20 45]\n",
      "İki dizinin bölümü:  [0.2 0.2 0.2]\n"
     ]
    }
   ],
   "source": [
    "arr1 = np.array([1, 2, 3])\n",
    "arr2 = np.array([5, 10, 15])\n",
    "\n",
    "print('İki dizinin carpimi: ', arr1*arr2)\n",
    "print('İki dizinin bölümü: ', arr1/arr2)"
   ]
  },
  {
   "cell_type": "code",
   "execution_count": 14,
   "metadata": {},
   "outputs": [
    {
     "name": "stdout",
     "output_type": "stream",
     "text": [
      "Dizinin son elemani:  193\n",
      "Dizinin ilk 5 elemani  [ 1 13 25 37 49]\n",
      "Dizinin son 5 elemanı:  [145 157 169 181 193]\n"
     ]
    }
   ],
   "source": [
    "array = np.arange(1, 200, 12)\n",
    "print(\"Dizinin son elemani: \", array[-1])\n",
    "print(\"Dizinin ilk 5 elemani \", array[:5])\n",
    "print(\"Dizinin son 5 elemanı: \", array[-5:])"
   ]
  },
  {
   "cell_type": "code",
   "execution_count": null,
   "metadata": {},
   "outputs": [],
   "source": []
  }
 ],
 "metadata": {
  "kernelspec": {
   "display_name": "python",
   "language": "python",
   "name": "python3"
  },
  "language_info": {
   "codemirror_mode": {
    "name": "ipython",
    "version": 3
   },
   "file_extension": ".py",
   "mimetype": "text/x-python",
   "name": "python",
   "nbconvert_exporter": "python",
   "pygments_lexer": "ipython3",
   "version": "3.10.13"
  }
 },
 "nbformat": 4,
 "nbformat_minor": 2
}
